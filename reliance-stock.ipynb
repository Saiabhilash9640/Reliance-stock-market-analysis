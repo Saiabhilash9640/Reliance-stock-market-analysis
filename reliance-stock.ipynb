{
 "cells": [
  {
   "cell_type": "code",
   "execution_count": 1,
   "id": "e2bb525d",
   "metadata": {
    "execution": {
     "iopub.execute_input": "2024-01-01T07:33:51.502385Z",
     "iopub.status.busy": "2024-01-01T07:33:51.501459Z",
     "iopub.status.idle": "2024-01-01T07:33:51.964941Z",
     "shell.execute_reply": "2024-01-01T07:33:51.963432Z"
    },
    "papermill": {
     "duration": 0.485165,
     "end_time": "2024-01-01T07:33:51.967880",
     "exception": false,
     "start_time": "2024-01-01T07:33:51.482715",
     "status": "completed"
    },
    "tags": []
   },
   "outputs": [],
   "source": [
    "import pandas as pd\n",
    "import warnings\n",
    "warnings.filterwarnings('ignore')"
   ]
  },
  {
   "cell_type": "code",
   "execution_count": 2,
   "id": "f3671228",
   "metadata": {
    "execution": {
     "iopub.execute_input": "2024-01-01T07:33:52.002316Z",
     "iopub.status.busy": "2024-01-01T07:33:52.001582Z",
     "iopub.status.idle": "2024-01-01T07:33:52.035017Z",
     "shell.execute_reply": "2024-01-01T07:33:52.033491Z"
    },
    "papermill": {
     "duration": 0.053837,
     "end_time": "2024-01-01T07:33:52.038061",
     "exception": false,
     "start_time": "2024-01-01T07:33:51.984224",
     "status": "completed"
    },
    "tags": []
   },
   "outputs": [],
   "source": [
    "df=pd.read_csv('/kaggle/input/reliance/RELIANCE.NS.csv')"
   ]
  },
  {
   "cell_type": "code",
   "execution_count": 3,
   "id": "0667673f",
   "metadata": {
    "execution": {
     "iopub.execute_input": "2024-01-01T07:33:52.071320Z",
     "iopub.status.busy": "2024-01-01T07:33:52.070871Z",
     "iopub.status.idle": "2024-01-01T07:33:52.104136Z",
     "shell.execute_reply": "2024-01-01T07:33:52.103196Z"
    },
    "papermill": {
     "duration": 0.052891,
     "end_time": "2024-01-01T07:33:52.106721",
     "exception": false,
     "start_time": "2024-01-01T07:33:52.053830",
     "status": "completed"
    },
    "tags": []
   },
   "outputs": [
    {
     "data": {
      "text/html": [
       "<div>\n",
       "<style scoped>\n",
       "    .dataframe tbody tr th:only-of-type {\n",
       "        vertical-align: middle;\n",
       "    }\n",
       "\n",
       "    .dataframe tbody tr th {\n",
       "        vertical-align: top;\n",
       "    }\n",
       "\n",
       "    .dataframe thead th {\n",
       "        text-align: right;\n",
       "    }\n",
       "</style>\n",
       "<table border=\"1\" class=\"dataframe\">\n",
       "  <thead>\n",
       "    <tr style=\"text-align: right;\">\n",
       "      <th></th>\n",
       "      <th>Date</th>\n",
       "      <th>Open</th>\n",
       "      <th>High</th>\n",
       "      <th>Low</th>\n",
       "      <th>Close</th>\n",
       "      <th>Adj Close</th>\n",
       "      <th>Volume</th>\n",
       "    </tr>\n",
       "  </thead>\n",
       "  <tbody>\n",
       "    <tr>\n",
       "      <th>0</th>\n",
       "      <td>2018-12-31</td>\n",
       "      <td>1120.330444</td>\n",
       "      <td>1123.203125</td>\n",
       "      <td>1105.718872</td>\n",
       "      <td>1110.721436</td>\n",
       "      <td>1089.801147</td>\n",
       "      <td>7291282</td>\n",
       "    </tr>\n",
       "    <tr>\n",
       "      <th>1</th>\n",
       "      <td>2019-01-01</td>\n",
       "      <td>1114.683960</td>\n",
       "      <td>1116.714722</td>\n",
       "      <td>1099.676147</td>\n",
       "      <td>1110.473877</td>\n",
       "      <td>1089.558228</td>\n",
       "      <td>4498087</td>\n",
       "    </tr>\n",
       "    <tr>\n",
       "      <th>2</th>\n",
       "      <td>2019-01-02</td>\n",
       "      <td>1104.034912</td>\n",
       "      <td>1116.417480</td>\n",
       "      <td>1090.661621</td>\n",
       "      <td>1096.010864</td>\n",
       "      <td>1075.367554</td>\n",
       "      <td>7212697</td>\n",
       "    </tr>\n",
       "    <tr>\n",
       "      <th>3</th>\n",
       "      <td>2019-01-03</td>\n",
       "      <td>1097.100586</td>\n",
       "      <td>1104.133911</td>\n",
       "      <td>1079.864014</td>\n",
       "      <td>1082.489136</td>\n",
       "      <td>1062.100586</td>\n",
       "      <td>7517041</td>\n",
       "    </tr>\n",
       "    <tr>\n",
       "      <th>4</th>\n",
       "      <td>2019-01-04</td>\n",
       "      <td>1087.095459</td>\n",
       "      <td>1094.079224</td>\n",
       "      <td>1070.948486</td>\n",
       "      <td>1088.333740</td>\n",
       "      <td>1067.835083</td>\n",
       "      <td>8545382</td>\n",
       "    </tr>\n",
       "  </tbody>\n",
       "</table>\n",
       "</div>"
      ],
      "text/plain": [
       "         Date         Open         High          Low        Close  \\\n",
       "0  2018-12-31  1120.330444  1123.203125  1105.718872  1110.721436   \n",
       "1  2019-01-01  1114.683960  1116.714722  1099.676147  1110.473877   \n",
       "2  2019-01-02  1104.034912  1116.417480  1090.661621  1096.010864   \n",
       "3  2019-01-03  1097.100586  1104.133911  1079.864014  1082.489136   \n",
       "4  2019-01-04  1087.095459  1094.079224  1070.948486  1088.333740   \n",
       "\n",
       "     Adj Close   Volume  \n",
       "0  1089.801147  7291282  \n",
       "1  1089.558228  4498087  \n",
       "2  1075.367554  7212697  \n",
       "3  1062.100586  7517041  \n",
       "4  1067.835083  8545382  "
      ]
     },
     "execution_count": 3,
     "metadata": {},
     "output_type": "execute_result"
    }
   ],
   "source": [
    "df.head()"
   ]
  },
  {
   "cell_type": "code",
   "execution_count": 4,
   "id": "6125eb00",
   "metadata": {
    "execution": {
     "iopub.execute_input": "2024-01-01T07:33:52.141880Z",
     "iopub.status.busy": "2024-01-01T07:33:52.141179Z",
     "iopub.status.idle": "2024-01-01T07:33:52.177238Z",
     "shell.execute_reply": "2024-01-01T07:33:52.175954Z"
    },
    "papermill": {
     "duration": 0.056258,
     "end_time": "2024-01-01T07:33:52.179817",
     "exception": false,
     "start_time": "2024-01-01T07:33:52.123559",
     "status": "completed"
    },
    "tags": []
   },
   "outputs": [
    {
     "name": "stdout",
     "output_type": "stream",
     "text": [
      "<class 'pandas.core.frame.DataFrame'>\n",
      "RangeIndex: 1236 entries, 0 to 1235\n",
      "Data columns (total 7 columns):\n",
      " #   Column     Non-Null Count  Dtype  \n",
      "---  ------     --------------  -----  \n",
      " 0   Date       1236 non-null   object \n",
      " 1   Open       1236 non-null   float64\n",
      " 2   High       1236 non-null   float64\n",
      " 3   Low        1236 non-null   float64\n",
      " 4   Close      1236 non-null   float64\n",
      " 5   Adj Close  1236 non-null   float64\n",
      " 6   Volume     1236 non-null   int64  \n",
      "dtypes: float64(5), int64(1), object(1)\n",
      "memory usage: 67.7+ KB\n"
     ]
    }
   ],
   "source": [
    "df.info()"
   ]
  },
  {
   "cell_type": "code",
   "execution_count": 5,
   "id": "cf873d88",
   "metadata": {
    "execution": {
     "iopub.execute_input": "2024-01-01T07:33:52.215942Z",
     "iopub.status.busy": "2024-01-01T07:33:52.215495Z",
     "iopub.status.idle": "2024-01-01T07:33:52.227850Z",
     "shell.execute_reply": "2024-01-01T07:33:52.226412Z"
    },
    "papermill": {
     "duration": 0.032742,
     "end_time": "2024-01-01T07:33:52.230550",
     "exception": false,
     "start_time": "2024-01-01T07:33:52.197808",
     "status": "completed"
    },
    "tags": []
   },
   "outputs": [],
   "source": [
    "df['Date']=pd.to_datetime(df['Date'])"
   ]
  },
  {
   "cell_type": "code",
   "execution_count": 6,
   "id": "2d4a8195",
   "metadata": {
    "execution": {
     "iopub.execute_input": "2024-01-01T07:33:52.265597Z",
     "iopub.status.busy": "2024-01-01T07:33:52.264794Z",
     "iopub.status.idle": "2024-01-01T07:33:52.272349Z",
     "shell.execute_reply": "2024-01-01T07:33:52.271449Z"
    },
    "papermill": {
     "duration": 0.027544,
     "end_time": "2024-01-01T07:33:52.274985",
     "exception": false,
     "start_time": "2024-01-01T07:33:52.247441",
     "status": "completed"
    },
    "tags": []
   },
   "outputs": [],
   "source": [
    "df.set_index('Date',inplace=True)"
   ]
  },
  {
   "cell_type": "code",
   "execution_count": 7,
   "id": "ffba1797",
   "metadata": {
    "execution": {
     "iopub.execute_input": "2024-01-01T07:33:52.308906Z",
     "iopub.status.busy": "2024-01-01T07:33:52.308104Z",
     "iopub.status.idle": "2024-01-01T07:33:52.323536Z",
     "shell.execute_reply": "2024-01-01T07:33:52.322275Z"
    },
    "papermill": {
     "duration": 0.035711,
     "end_time": "2024-01-01T07:33:52.326395",
     "exception": false,
     "start_time": "2024-01-01T07:33:52.290684",
     "status": "completed"
    },
    "tags": []
   },
   "outputs": [
    {
     "data": {
      "text/html": [
       "<div>\n",
       "<style scoped>\n",
       "    .dataframe tbody tr th:only-of-type {\n",
       "        vertical-align: middle;\n",
       "    }\n",
       "\n",
       "    .dataframe tbody tr th {\n",
       "        vertical-align: top;\n",
       "    }\n",
       "\n",
       "    .dataframe thead th {\n",
       "        text-align: right;\n",
       "    }\n",
       "</style>\n",
       "<table border=\"1\" class=\"dataframe\">\n",
       "  <thead>\n",
       "    <tr style=\"text-align: right;\">\n",
       "      <th></th>\n",
       "      <th>Open</th>\n",
       "      <th>High</th>\n",
       "      <th>Low</th>\n",
       "      <th>Close</th>\n",
       "      <th>Adj Close</th>\n",
       "      <th>Volume</th>\n",
       "    </tr>\n",
       "    <tr>\n",
       "      <th>Date</th>\n",
       "      <th></th>\n",
       "      <th></th>\n",
       "      <th></th>\n",
       "      <th></th>\n",
       "      <th></th>\n",
       "      <th></th>\n",
       "    </tr>\n",
       "  </thead>\n",
       "  <tbody>\n",
       "    <tr>\n",
       "      <th>2018-12-31</th>\n",
       "      <td>1120.330444</td>\n",
       "      <td>1123.203125</td>\n",
       "      <td>1105.718872</td>\n",
       "      <td>1110.721436</td>\n",
       "      <td>1089.801147</td>\n",
       "      <td>7291282</td>\n",
       "    </tr>\n",
       "    <tr>\n",
       "      <th>2019-01-01</th>\n",
       "      <td>1114.683960</td>\n",
       "      <td>1116.714722</td>\n",
       "      <td>1099.676147</td>\n",
       "      <td>1110.473877</td>\n",
       "      <td>1089.558228</td>\n",
       "      <td>4498087</td>\n",
       "    </tr>\n",
       "    <tr>\n",
       "      <th>2019-01-02</th>\n",
       "      <td>1104.034912</td>\n",
       "      <td>1116.417480</td>\n",
       "      <td>1090.661621</td>\n",
       "      <td>1096.010864</td>\n",
       "      <td>1075.367554</td>\n",
       "      <td>7212697</td>\n",
       "    </tr>\n",
       "    <tr>\n",
       "      <th>2019-01-03</th>\n",
       "      <td>1097.100586</td>\n",
       "      <td>1104.133911</td>\n",
       "      <td>1079.864014</td>\n",
       "      <td>1082.489136</td>\n",
       "      <td>1062.100586</td>\n",
       "      <td>7517041</td>\n",
       "    </tr>\n",
       "    <tr>\n",
       "      <th>2019-01-04</th>\n",
       "      <td>1087.095459</td>\n",
       "      <td>1094.079224</td>\n",
       "      <td>1070.948486</td>\n",
       "      <td>1088.333740</td>\n",
       "      <td>1067.835083</td>\n",
       "      <td>8545382</td>\n",
       "    </tr>\n",
       "  </tbody>\n",
       "</table>\n",
       "</div>"
      ],
      "text/plain": [
       "                   Open         High          Low        Close    Adj Close  \\\n",
       "Date                                                                          \n",
       "2018-12-31  1120.330444  1123.203125  1105.718872  1110.721436  1089.801147   \n",
       "2019-01-01  1114.683960  1116.714722  1099.676147  1110.473877  1089.558228   \n",
       "2019-01-02  1104.034912  1116.417480  1090.661621  1096.010864  1075.367554   \n",
       "2019-01-03  1097.100586  1104.133911  1079.864014  1082.489136  1062.100586   \n",
       "2019-01-04  1087.095459  1094.079224  1070.948486  1088.333740  1067.835083   \n",
       "\n",
       "             Volume  \n",
       "Date                 \n",
       "2018-12-31  7291282  \n",
       "2019-01-01  4498087  \n",
       "2019-01-02  7212697  \n",
       "2019-01-03  7517041  \n",
       "2019-01-04  8545382  "
      ]
     },
     "execution_count": 7,
     "metadata": {},
     "output_type": "execute_result"
    }
   ],
   "source": [
    "df.head()"
   ]
  },
  {
   "cell_type": "code",
   "execution_count": 8,
   "id": "a81f98c2",
   "metadata": {
    "execution": {
     "iopub.execute_input": "2024-01-01T07:33:52.361458Z",
     "iopub.status.busy": "2024-01-01T07:33:52.361070Z",
     "iopub.status.idle": "2024-01-01T07:33:52.821344Z",
     "shell.execute_reply": "2024-01-01T07:33:52.820152Z"
    },
    "papermill": {
     "duration": 0.481425,
     "end_time": "2024-01-01T07:33:52.824256",
     "exception": false,
     "start_time": "2024-01-01T07:33:52.342831",
     "status": "completed"
    },
    "tags": []
   },
   "outputs": [
    {
     "data": {
      "text/plain": [
       "[<matplotlib.lines.Line2D at 0x78cea5a1ecb0>]"
      ]
     },
     "execution_count": 8,
     "metadata": {},
     "output_type": "execute_result"
    },
    {
     "data": {
      "image/png": "[encoded data removed]",
      "text/plain": [
       "<Figure size 1500x500 with 1 Axes>"
      ]
     },
     "metadata": {},
     "output_type": "display_data"
    }
   ],
   "source": [
    "import matplotlib.pyplot as plt\n",
    "plt.figure(figsize=(15,5))\n",
    "plt.plot(df['Open'])\n"
   ]
  },
  {
   "cell_type": "code",
   "execution_count": 9,
   "id": "8e604871",
   "metadata": {
    "execution": {
     "iopub.execute_input": "2024-01-01T07:33:52.863017Z",
     "iopub.status.busy": "2024-01-01T07:33:52.862568Z",
     "iopub.status.idle": "2024-01-01T07:33:52.871525Z",
     "shell.execute_reply": "2024-01-01T07:33:52.870281Z"
    },
    "papermill": {
     "duration": 0.030889,
     "end_time": "2024-01-01T07:33:52.873977",
     "exception": false,
     "start_time": "2024-01-01T07:33:52.843088",
     "status": "completed"
    },
    "tags": []
   },
   "outputs": [],
   "source": [
    "df.drop('Adj Close',axis=1,inplace=True)"
   ]
  },
  {
   "cell_type": "code",
   "execution_count": 10,
   "id": "cc3f42b0",
   "metadata": {
    "execution": {
     "iopub.execute_input": "2024-01-01T07:33:52.910986Z",
     "iopub.status.busy": "2024-01-01T07:33:52.910183Z",
     "iopub.status.idle": "2024-01-01T07:33:52.922057Z",
     "shell.execute_reply": "2024-01-01T07:33:52.920951Z"
    },
    "papermill": {
     "duration": 0.03312,
     "end_time": "2024-01-01T07:33:52.924452",
     "exception": false,
     "start_time": "2024-01-01T07:33:52.891332",
     "status": "completed"
    },
    "tags": []
   },
   "outputs": [
    {
     "data": {
      "text/html": [
       "<div>\n",
       "<style scoped>\n",
       "    .dataframe tbody tr th:only-of-type {\n",
       "        vertical-align: middle;\n",
       "    }\n",
       "\n",
       "    .dataframe tbody tr th {\n",
       "        vertical-align: top;\n",
       "    }\n",
       "\n",
       "    .dataframe thead th {\n",
       "        text-align: right;\n",
       "    }\n",
       "</style>\n",
       "<table border=\"1\" class=\"dataframe\">\n",
       "  <thead>\n",
       "    <tr style=\"text-align: right;\">\n",
       "      <th></th>\n",
       "      <th>Open</th>\n",
       "      <th>High</th>\n",
       "      <th>Low</th>\n",
       "      <th>Close</th>\n",
       "      <th>Volume</th>\n",
       "    </tr>\n",
       "    <tr>\n",
       "      <th>Date</th>\n",
       "      <th></th>\n",
       "      <th></th>\n",
       "      <th></th>\n",
       "      <th></th>\n",
       "      <th></th>\n",
       "    </tr>\n",
       "  </thead>\n",
       "  <tbody>\n",
       "  </tbody>\n",
       "</table>\n",
       "</div>"
      ],
      "text/plain": [
       "Empty DataFrame\n",
       "Columns: [Open, High, Low, Close, Volume]\n",
       "Index: []"
      ]
     },
     "execution_count": 10,
     "metadata": {},
     "output_type": "execute_result"
    }
   ],
   "source": [
    "df[df.isnull().any(axis=1)]"
   ]
  },
  {
   "cell_type": "code",
   "execution_count": 11,
   "id": "6248efbb",
   "metadata": {
    "execution": {
     "iopub.execute_input": "2024-01-01T07:33:52.962543Z",
     "iopub.status.busy": "2024-01-01T07:33:52.961785Z",
     "iopub.status.idle": "2024-01-01T07:33:52.991069Z",
     "shell.execute_reply": "2024-01-01T07:33:52.989833Z"
    },
    "papermill": {
     "duration": 0.051122,
     "end_time": "2024-01-01T07:33:52.993717",
     "exception": false,
     "start_time": "2024-01-01T07:33:52.942595",
     "status": "completed"
    },
    "tags": []
   },
   "outputs": [
    {
     "data": {
      "text/html": [
       "<div>\n",
       "<style scoped>\n",
       "    .dataframe tbody tr th:only-of-type {\n",
       "        vertical-align: middle;\n",
       "    }\n",
       "\n",
       "    .dataframe tbody tr th {\n",
       "        vertical-align: top;\n",
       "    }\n",
       "\n",
       "    .dataframe thead th {\n",
       "        text-align: right;\n",
       "    }\n",
       "</style>\n",
       "<table border=\"1\" class=\"dataframe\">\n",
       "  <thead>\n",
       "    <tr style=\"text-align: right;\">\n",
       "      <th></th>\n",
       "      <th>Open</th>\n",
       "      <th>High</th>\n",
       "      <th>Low</th>\n",
       "      <th>Close</th>\n",
       "      <th>Volume</th>\n",
       "    </tr>\n",
       "  </thead>\n",
       "  <tbody>\n",
       "    <tr>\n",
       "      <th>count</th>\n",
       "      <td>1236.000000</td>\n",
       "      <td>1236.000000</td>\n",
       "      <td>1236.000000</td>\n",
       "      <td>1236.000000</td>\n",
       "      <td>1.236000e+03</td>\n",
       "    </tr>\n",
       "    <tr>\n",
       "      <th>mean</th>\n",
       "      <td>2044.708012</td>\n",
       "      <td>2066.139210</td>\n",
       "      <td>2021.617186</td>\n",
       "      <td>2042.905293</td>\n",
       "      <td>9.636555e+06</td>\n",
       "    </tr>\n",
       "    <tr>\n",
       "      <th>std</th>\n",
       "      <td>503.996696</td>\n",
       "      <td>506.486992</td>\n",
       "      <td>501.333213</td>\n",
       "      <td>504.016551</td>\n",
       "      <td>7.428361e+06</td>\n",
       "    </tr>\n",
       "    <tr>\n",
       "      <th>min</th>\n",
       "      <td>907.596863</td>\n",
       "      <td>941.079529</td>\n",
       "      <td>867.427673</td>\n",
       "      <td>875.748779</td>\n",
       "      <td>0.000000e+00</td>\n",
       "    </tr>\n",
       "    <tr>\n",
       "      <th>25%</th>\n",
       "      <td>1525.884857</td>\n",
       "      <td>1534.863556</td>\n",
       "      <td>1507.671234</td>\n",
       "      <td>1520.750153</td>\n",
       "      <td>5.237369e+06</td>\n",
       "    </tr>\n",
       "    <tr>\n",
       "      <th>50%</th>\n",
       "      <td>2202.750000</td>\n",
       "      <td>2227.574951</td>\n",
       "      <td>2176.800049</td>\n",
       "      <td>2201.474976</td>\n",
       "      <td>7.404036e+06</td>\n",
       "    </tr>\n",
       "    <tr>\n",
       "      <th>75%</th>\n",
       "      <td>2460.000000</td>\n",
       "      <td>2480.250000</td>\n",
       "      <td>2435.237488</td>\n",
       "      <td>2456.599976</td>\n",
       "      <td>1.113882e+07</td>\n",
       "    </tr>\n",
       "    <tr>\n",
       "      <th>max</th>\n",
       "      <td>2856.149902</td>\n",
       "      <td>2856.149902</td>\n",
       "      <td>2797.000000</td>\n",
       "      <td>2841.850098</td>\n",
       "      <td>6.584835e+07</td>\n",
       "    </tr>\n",
       "  </tbody>\n",
       "</table>\n",
       "</div>"
      ],
      "text/plain": [
       "              Open         High          Low        Close        Volume\n",
       "count  1236.000000  1236.000000  1236.000000  1236.000000  1.236000e+03\n",
       "mean   2044.708012  2066.139210  2021.617186  2042.905293  9.636555e+06\n",
       "std     503.996696   506.486992   501.333213   504.016551  7.428361e+06\n",
       "min     907.596863   941.079529   867.427673   875.748779  0.000000e+00\n",
       "25%    1525.884857  1534.863556  1507.671234  1520.750153  5.237369e+06\n",
       "50%    2202.750000  2227.574951  2176.800049  2201.474976  7.404036e+06\n",
       "75%    2460.000000  2480.250000  2435.237488  2456.599976  1.113882e+07\n",
       "max    2856.149902  2856.149902  2797.000000  2841.850098  6.584835e+07"
      ]
     },
     "execution_count": 11,
     "metadata": {},
     "output_type": "execute_result"
    }
   ],
   "source": [
    "df.describe()"
   ]
  },
  {
   "cell_type": "code",
   "execution_count": 12,
   "id": "8c4cb76a",
   "metadata": {
    "execution": {
     "iopub.execute_input": "2024-01-01T07:33:53.097947Z",
     "iopub.status.busy": "2024-01-01T07:33:53.097531Z",
     "iopub.status.idle": "2024-01-01T07:33:53.113652Z",
     "shell.execute_reply": "2024-01-01T07:33:53.112434Z"
    },
    "papermill": {
     "duration": 0.104228,
     "end_time": "2024-01-01T07:33:53.116318",
     "exception": false,
     "start_time": "2024-01-01T07:33:53.012090",
     "status": "completed"
    },
    "tags": []
   },
   "outputs": [
    {
     "data": {
      "text/html": [
       "<div>\n",
       "<style scoped>\n",
       "    .dataframe tbody tr th:only-of-type {\n",
       "        vertical-align: middle;\n",
       "    }\n",
       "\n",
       "    .dataframe tbody tr th {\n",
       "        vertical-align: top;\n",
       "    }\n",
       "\n",
       "    .dataframe thead th {\n",
       "        text-align: right;\n",
       "    }\n",
       "</style>\n",
       "<table border=\"1\" class=\"dataframe\">\n",
       "  <thead>\n",
       "    <tr style=\"text-align: right;\">\n",
       "      <th></th>\n",
       "      <th>Open</th>\n",
       "      <th>High</th>\n",
       "      <th>Low</th>\n",
       "      <th>Close</th>\n",
       "      <th>Volume</th>\n",
       "    </tr>\n",
       "  </thead>\n",
       "  <tbody>\n",
       "    <tr>\n",
       "      <th>Open</th>\n",
       "      <td>1.000000</td>\n",
       "      <td>0.999038</td>\n",
       "      <td>0.999044</td>\n",
       "      <td>0.998033</td>\n",
       "      <td>-0.310431</td>\n",
       "    </tr>\n",
       "    <tr>\n",
       "      <th>High</th>\n",
       "      <td>0.999038</td>\n",
       "      <td>1.000000</td>\n",
       "      <td>0.998801</td>\n",
       "      <td>0.999249</td>\n",
       "      <td>-0.293271</td>\n",
       "    </tr>\n",
       "    <tr>\n",
       "      <th>Low</th>\n",
       "      <td>0.999044</td>\n",
       "      <td>0.998801</td>\n",
       "      <td>1.000000</td>\n",
       "      <td>0.999182</td>\n",
       "      <td>-0.323351</td>\n",
       "    </tr>\n",
       "    <tr>\n",
       "      <th>Close</th>\n",
       "      <td>0.998033</td>\n",
       "      <td>0.999249</td>\n",
       "      <td>0.999182</td>\n",
       "      <td>1.000000</td>\n",
       "      <td>-0.307070</td>\n",
       "    </tr>\n",
       "    <tr>\n",
       "      <th>Volume</th>\n",
       "      <td>-0.310431</td>\n",
       "      <td>-0.293271</td>\n",
       "      <td>-0.323351</td>\n",
       "      <td>-0.307070</td>\n",
       "      <td>1.000000</td>\n",
       "    </tr>\n",
       "  </tbody>\n",
       "</table>\n",
       "</div>"
      ],
      "text/plain": [
       "            Open      High       Low     Close    Volume\n",
       "Open    1.000000  0.999038  0.999044  0.998033 -0.310431\n",
       "High    0.999038  1.000000  0.998801  0.999249 -0.293271\n",
       "Low     0.999044  0.998801  1.000000  0.999182 -0.323351\n",
       "Close   0.998033  0.999249  0.999182  1.000000 -0.307070\n",
       "Volume -0.310431 -0.293271 -0.323351 -0.307070  1.000000"
      ]
     },
     "execution_count": 12,
     "metadata": {},
     "output_type": "execute_result"
    }
   ],
   "source": [
    "df.corr()"
   ]
  },
  {
   "cell_type": "code",
   "execution_count": 13,
   "id": "8bba0471",
   "metadata": {
    "execution": {
     "iopub.execute_input": "2024-01-01T07:33:53.155349Z",
     "iopub.status.busy": "2024-01-01T07:33:53.154946Z",
     "iopub.status.idle": "2024-01-01T07:33:53.161909Z",
     "shell.execute_reply": "2024-01-01T07:33:53.160998Z"
    },
    "papermill": {
     "duration": 0.028805,
     "end_time": "2024-01-01T07:33:53.164105",
     "exception": false,
     "start_time": "2024-01-01T07:33:53.135300",
     "status": "completed"
    },
    "tags": []
   },
   "outputs": [],
   "source": [
    "df_ma=df.copy()\n",
    "df_ma['30day ma']=df['Close'].rolling(window=30).mean()"
   ]
  },
  {
   "cell_type": "code",
   "execution_count": 14,
   "id": "fc7405f9",
   "metadata": {
    "execution": {
     "iopub.execute_input": "2024-01-01T07:33:53.203364Z",
     "iopub.status.busy": "2024-01-01T07:33:53.202233Z",
     "iopub.status.idle": "2024-01-01T07:33:53.220669Z",
     "shell.execute_reply": "2024-01-01T07:33:53.219796Z"
    },
    "papermill": {
     "duration": 0.040605,
     "end_time": "2024-01-01T07:33:53.222999",
     "exception": false,
     "start_time": "2024-01-01T07:33:53.182394",
     "status": "completed"
    },
    "tags": []
   },
   "outputs": [
    {
     "data": {
      "text/html": [
       "<div>\n",
       "<style scoped>\n",
       "    .dataframe tbody tr th:only-of-type {\n",
       "        vertical-align: middle;\n",
       "    }\n",
       "\n",
       "    .dataframe tbody tr th {\n",
       "        vertical-align: top;\n",
       "    }\n",
       "\n",
       "    .dataframe thead th {\n",
       "        text-align: right;\n",
       "    }\n",
       "</style>\n",
       "<table border=\"1\" class=\"dataframe\">\n",
       "  <thead>\n",
       "    <tr style=\"text-align: right;\">\n",
       "      <th></th>\n",
       "      <th>Open</th>\n",
       "      <th>High</th>\n",
       "      <th>Low</th>\n",
       "      <th>Close</th>\n",
       "      <th>Volume</th>\n",
       "      <th>30day ma</th>\n",
       "    </tr>\n",
       "    <tr>\n",
       "      <th>Date</th>\n",
       "      <th></th>\n",
       "      <th></th>\n",
       "      <th></th>\n",
       "      <th></th>\n",
       "      <th></th>\n",
       "      <th></th>\n",
       "    </tr>\n",
       "  </thead>\n",
       "  <tbody>\n",
       "    <tr>\n",
       "      <th>2018-12-31</th>\n",
       "      <td>1120.330444</td>\n",
       "      <td>1123.203125</td>\n",
       "      <td>1105.718872</td>\n",
       "      <td>1110.721436</td>\n",
       "      <td>7291282</td>\n",
       "      <td>NaN</td>\n",
       "    </tr>\n",
       "    <tr>\n",
       "      <th>2019-01-01</th>\n",
       "      <td>1114.683960</td>\n",
       "      <td>1116.714722</td>\n",
       "      <td>1099.676147</td>\n",
       "      <td>1110.473877</td>\n",
       "      <td>4498087</td>\n",
       "      <td>NaN</td>\n",
       "    </tr>\n",
       "    <tr>\n",
       "      <th>2019-01-02</th>\n",
       "      <td>1104.034912</td>\n",
       "      <td>1116.417480</td>\n",
       "      <td>1090.661621</td>\n",
       "      <td>1096.010864</td>\n",
       "      <td>7212697</td>\n",
       "      <td>NaN</td>\n",
       "    </tr>\n",
       "    <tr>\n",
       "      <th>2019-01-03</th>\n",
       "      <td>1097.100586</td>\n",
       "      <td>1104.133911</td>\n",
       "      <td>1079.864014</td>\n",
       "      <td>1082.489136</td>\n",
       "      <td>7517041</td>\n",
       "      <td>NaN</td>\n",
       "    </tr>\n",
       "    <tr>\n",
       "      <th>2019-01-04</th>\n",
       "      <td>1087.095459</td>\n",
       "      <td>1094.079224</td>\n",
       "      <td>1070.948486</td>\n",
       "      <td>1088.333740</td>\n",
       "      <td>8545382</td>\n",
       "      <td>NaN</td>\n",
       "    </tr>\n",
       "    <tr>\n",
       "      <th>2019-01-07</th>\n",
       "      <td>1096.605225</td>\n",
       "      <td>1107.947754</td>\n",
       "      <td>1090.661621</td>\n",
       "      <td>1094.376465</td>\n",
       "      <td>5565822</td>\n",
       "      <td>NaN</td>\n",
       "    </tr>\n",
       "    <tr>\n",
       "      <th>2019-01-08</th>\n",
       "      <td>1094.723145</td>\n",
       "      <td>1099.527588</td>\n",
       "      <td>1085.708618</td>\n",
       "      <td>1094.277344</td>\n",
       "      <td>5678473</td>\n",
       "      <td>NaN</td>\n",
       "    </tr>\n",
       "    <tr>\n",
       "      <th>2019-01-09</th>\n",
       "      <td>1101.558350</td>\n",
       "      <td>1106.511353</td>\n",
       "      <td>1088.383179</td>\n",
       "      <td>1100.320068</td>\n",
       "      <td>5821468</td>\n",
       "      <td>NaN</td>\n",
       "    </tr>\n",
       "    <tr>\n",
       "      <th>2019-01-10</th>\n",
       "      <td>1097.348267</td>\n",
       "      <td>1100.567749</td>\n",
       "      <td>1092.642822</td>\n",
       "      <td>1097.100586</td>\n",
       "      <td>4118960</td>\n",
       "      <td>NaN</td>\n",
       "    </tr>\n",
       "    <tr>\n",
       "      <th>2019-01-11</th>\n",
       "      <td>1097.199585</td>\n",
       "      <td>1103.341431</td>\n",
       "      <td>1078.378052</td>\n",
       "      <td>1087.739258</td>\n",
       "      <td>6525174</td>\n",
       "      <td>NaN</td>\n",
       "    </tr>\n",
       "    <tr>\n",
       "      <th>2019-01-14</th>\n",
       "      <td>1084.718018</td>\n",
       "      <td>1090.166260</td>\n",
       "      <td>1076.198730</td>\n",
       "      <td>1086.501099</td>\n",
       "      <td>4150757</td>\n",
       "      <td>NaN</td>\n",
       "    </tr>\n",
       "    <tr>\n",
       "      <th>2019-01-15</th>\n",
       "      <td>1094.624023</td>\n",
       "      <td>1121.370483</td>\n",
       "      <td>1094.624023</td>\n",
       "      <td>1119.042603</td>\n",
       "      <td>10158260</td>\n",
       "      <td>NaN</td>\n",
       "    </tr>\n",
       "    <tr>\n",
       "      <th>2019-01-16</th>\n",
       "      <td>1124.342407</td>\n",
       "      <td>1134.248413</td>\n",
       "      <td>1119.735962</td>\n",
       "      <td>1125.233887</td>\n",
       "      <td>6443279</td>\n",
       "      <td>NaN</td>\n",
       "    </tr>\n",
       "    <tr>\n",
       "      <th>2019-01-17</th>\n",
       "      <td>1133.703613</td>\n",
       "      <td>1137.121216</td>\n",
       "      <td>1119.389282</td>\n",
       "      <td>1123.797485</td>\n",
       "      <td>7558941</td>\n",
       "      <td>NaN</td>\n",
       "    </tr>\n",
       "    <tr>\n",
       "      <th>2019-01-18</th>\n",
       "      <td>1138.012817</td>\n",
       "      <td>1178.726807</td>\n",
       "      <td>1124.589966</td>\n",
       "      <td>1173.229004</td>\n",
       "      <td>25927601</td>\n",
       "      <td>NaN</td>\n",
       "    </tr>\n",
       "  </tbody>\n",
       "</table>\n",
       "</div>"
      ],
      "text/plain": [
       "                   Open         High          Low        Close    Volume  \\\n",
       "Date                                                                       \n",
       "2018-12-31  1120.330444  1123.203125  1105.718872  1110.721436   7291282   \n",
       "2019-01-01  1114.683960  1116.714722  1099.676147  1110.473877   4498087   \n",
       "2019-01-02  1104.034912  1116.417480  1090.661621  1096.010864   7212697   \n",
       "2019-01-03  1097.100586  1104.133911  1079.864014  1082.489136   7517041   \n",
       "2019-01-04  1087.095459  1094.079224  1070.948486  1088.333740   8545382   \n",
       "2019-01-07  1096.605225  1107.947754  1090.661621  1094.376465   5565822   \n",
       "2019-01-08  1094.723145  1099.527588  1085.708618  1094.277344   5678473   \n",
       "2019-01-09  1101.558350  1106.511353  1088.383179  1100.320068   5821468   \n",
       "2019-01-10  1097.348267  1100.567749  1092.642822  1097.100586   4118960   \n",
       "2019-01-11  1097.199585  1103.341431  1078.378052  1087.739258   6525174   \n",
       "2019-01-14  1084.718018  1090.166260  1076.198730  1086.501099   4150757   \n",
       "2019-01-15  1094.624023  1121.370483  1094.624023  1119.042603  10158260   \n",
       "2019-01-16  1124.342407  1134.248413  1119.735962  1125.233887   6443279   \n",
       "2019-01-17  1133.703613  1137.121216  1119.389282  1123.797485   7558941   \n",
       "2019-01-18  1138.012817  1178.726807  1124.589966  1173.229004  25927601   \n",
       "\n",
       "            30day ma  \n",
       "Date                  \n",
       "2018-12-31       NaN  \n",
       "2019-01-01       NaN  \n",
       "2019-01-02       NaN  \n",
       "2019-01-03       NaN  \n",
       "2019-01-04       NaN  \n",
       "2019-01-07       NaN  \n",
       "2019-01-08       NaN  \n",
       "2019-01-09       NaN  \n",
       "2019-01-10       NaN  \n",
       "2019-01-11       NaN  \n",
       "2019-01-14       NaN  \n",
       "2019-01-15       NaN  \n",
       "2019-01-16       NaN  \n",
       "2019-01-17       NaN  \n",
       "2019-01-18       NaN  "
      ]
     },
     "execution_count": 14,
     "metadata": {},
     "output_type": "execute_result"
    }
   ],
   "source": [
    "df_ma.head(15)"
   ]
  },
  {
   "cell_type": "code",
   "execution_count": 15,
   "id": "e3b26728",
   "metadata": {
    "execution": {
     "iopub.execute_input": "2024-01-01T07:33:53.262308Z",
     "iopub.status.busy": "2024-01-01T07:33:53.261831Z",
     "iopub.status.idle": "2024-01-01T07:33:53.269288Z",
     "shell.execute_reply": "2024-01-01T07:33:53.267990Z"
    },
    "papermill": {
     "duration": 0.030413,
     "end_time": "2024-01-01T07:33:53.272145",
     "exception": false,
     "start_time": "2024-01-01T07:33:53.241732",
     "status": "completed"
    },
    "tags": []
   },
   "outputs": [],
   "source": [
    "df_ma['100day ma']=df['Close'].rolling(window=100).mean()"
   ]
  },
  {
   "cell_type": "code",
   "execution_count": 16,
   "id": "06cd324a",
   "metadata": {
    "execution": {
     "iopub.execute_input": "2024-01-01T07:33:53.312002Z",
     "iopub.status.busy": "2024-01-01T07:33:53.311573Z",
     "iopub.status.idle": "2024-01-01T07:33:53.734753Z",
     "shell.execute_reply": "2024-01-01T07:33:53.733547Z"
    },
    "papermill": {
     "duration": 0.446662,
     "end_time": "2024-01-01T07:33:53.737908",
     "exception": false,
     "start_time": "2024-01-01T07:33:53.291246",
     "status": "completed"
    },
    "tags": []
   },
   "outputs": [
    {
     "data": {
      "text/plain": [
       "[<matplotlib.lines.Line2D at 0x78cea3696440>]"
      ]
     },
     "execution_count": 16,
     "metadata": {},
     "output_type": "execute_result"
    },
    {
     "data": {
      "image/png": "[encoded data removed]",
      "text/plain": [
       "<Figure size 1500x500 with 1 Axes>"
      ]
     },
     "metadata": {},
     "output_type": "display_data"
    }
   ],
   "source": [
    "plt.figure(figsize=(15,5))\n",
    "plt.plot(df_ma['Close'])\n",
    "plt.plot(df_ma['30day ma'])\n",
    "plt.plot(df_ma['100day ma'])"
   ]
  },
  {
   "cell_type": "code",
   "execution_count": 17,
   "id": "9f045502",
   "metadata": {
    "execution": {
     "iopub.execute_input": "2024-01-01T07:33:53.780717Z",
     "iopub.status.busy": "2024-01-01T07:33:53.780255Z",
     "iopub.status.idle": "2024-01-01T07:33:53.786052Z",
     "shell.execute_reply": "2024-01-01T07:33:53.784859Z"
    },
    "papermill": {
     "duration": 0.030244,
     "end_time": "2024-01-01T07:33:53.788425",
     "exception": false,
     "start_time": "2024-01-01T07:33:53.758181",
     "status": "completed"
    },
    "tags": []
   },
   "outputs": [],
   "source": [
    "df.reset_index(inplace=True)"
   ]
  },
  {
   "cell_type": "code",
   "execution_count": 18,
   "id": "7e96af32",
   "metadata": {
    "execution": {
     "iopub.execute_input": "2024-01-01T07:33:53.832538Z",
     "iopub.status.busy": "2024-01-01T07:33:53.832117Z",
     "iopub.status.idle": "2024-01-01T07:33:53.851794Z",
     "shell.execute_reply": "2024-01-01T07:33:53.850648Z"
    },
    "papermill": {
     "duration": 0.044677,
     "end_time": "2024-01-01T07:33:53.854230",
     "exception": false,
     "start_time": "2024-01-01T07:33:53.809553",
     "status": "completed"
    },
    "tags": []
   },
   "outputs": [
    {
     "data": {
      "text/html": [
       "<div>\n",
       "<style scoped>\n",
       "    .dataframe tbody tr th:only-of-type {\n",
       "        vertical-align: middle;\n",
       "    }\n",
       "\n",
       "    .dataframe tbody tr th {\n",
       "        vertical-align: top;\n",
       "    }\n",
       "\n",
       "    .dataframe thead th {\n",
       "        text-align: right;\n",
       "    }\n",
       "</style>\n",
       "<table border=\"1\" class=\"dataframe\">\n",
       "  <thead>\n",
       "    <tr style=\"text-align: right;\">\n",
       "      <th></th>\n",
       "      <th>Date</th>\n",
       "      <th>Open</th>\n",
       "      <th>High</th>\n",
       "      <th>Low</th>\n",
       "      <th>Close</th>\n",
       "      <th>Volume</th>\n",
       "    </tr>\n",
       "  </thead>\n",
       "  <tbody>\n",
       "    <tr>\n",
       "      <th>0</th>\n",
       "      <td>2018-12-31</td>\n",
       "      <td>1120.330444</td>\n",
       "      <td>1123.203125</td>\n",
       "      <td>1105.718872</td>\n",
       "      <td>1110.721436</td>\n",
       "      <td>7291282</td>\n",
       "    </tr>\n",
       "    <tr>\n",
       "      <th>1</th>\n",
       "      <td>2019-01-01</td>\n",
       "      <td>1114.683960</td>\n",
       "      <td>1116.714722</td>\n",
       "      <td>1099.676147</td>\n",
       "      <td>1110.473877</td>\n",
       "      <td>4498087</td>\n",
       "    </tr>\n",
       "    <tr>\n",
       "      <th>2</th>\n",
       "      <td>2019-01-02</td>\n",
       "      <td>1104.034912</td>\n",
       "      <td>1116.417480</td>\n",
       "      <td>1090.661621</td>\n",
       "      <td>1096.010864</td>\n",
       "      <td>7212697</td>\n",
       "    </tr>\n",
       "    <tr>\n",
       "      <th>3</th>\n",
       "      <td>2019-01-03</td>\n",
       "      <td>1097.100586</td>\n",
       "      <td>1104.133911</td>\n",
       "      <td>1079.864014</td>\n",
       "      <td>1082.489136</td>\n",
       "      <td>7517041</td>\n",
       "    </tr>\n",
       "    <tr>\n",
       "      <th>4</th>\n",
       "      <td>2019-01-04</td>\n",
       "      <td>1087.095459</td>\n",
       "      <td>1094.079224</td>\n",
       "      <td>1070.948486</td>\n",
       "      <td>1088.333740</td>\n",
       "      <td>8545382</td>\n",
       "    </tr>\n",
       "    <tr>\n",
       "      <th>...</th>\n",
       "      <td>...</td>\n",
       "      <td>...</td>\n",
       "      <td>...</td>\n",
       "      <td>...</td>\n",
       "      <td>...</td>\n",
       "      <td>...</td>\n",
       "    </tr>\n",
       "    <tr>\n",
       "      <th>1231</th>\n",
       "      <td>2023-12-22</td>\n",
       "      <td>2559.600098</td>\n",
       "      <td>2580.899902</td>\n",
       "      <td>2547.649902</td>\n",
       "      <td>2565.050049</td>\n",
       "      <td>8270892</td>\n",
       "    </tr>\n",
       "    <tr>\n",
       "      <th>1232</th>\n",
       "      <td>2023-12-26</td>\n",
       "      <td>2568.000000</td>\n",
       "      <td>2591.949951</td>\n",
       "      <td>2562.699951</td>\n",
       "      <td>2578.050049</td>\n",
       "      <td>3732832</td>\n",
       "    </tr>\n",
       "    <tr>\n",
       "      <th>1233</th>\n",
       "      <td>2023-12-27</td>\n",
       "      <td>2582.000000</td>\n",
       "      <td>2599.899902</td>\n",
       "      <td>2573.100098</td>\n",
       "      <td>2586.850098</td>\n",
       "      <td>4602078</td>\n",
       "    </tr>\n",
       "    <tr>\n",
       "      <th>1234</th>\n",
       "      <td>2023-12-28</td>\n",
       "      <td>2589.800049</td>\n",
       "      <td>2612.000000</td>\n",
       "      <td>2586.850098</td>\n",
       "      <td>2605.550049</td>\n",
       "      <td>6151318</td>\n",
       "    </tr>\n",
       "    <tr>\n",
       "      <th>1235</th>\n",
       "      <td>2023-12-29</td>\n",
       "      <td>2611.100098</td>\n",
       "      <td>2614.000000</td>\n",
       "      <td>2579.300049</td>\n",
       "      <td>2584.949951</td>\n",
       "      <td>5432292</td>\n",
       "    </tr>\n",
       "  </tbody>\n",
       "</table>\n",
       "<p>1236 rows × 6 columns</p>\n",
       "</div>"
      ],
      "text/plain": [
       "           Date         Open         High          Low        Close   Volume\n",
       "0    2018-12-31  1120.330444  1123.203125  1105.718872  1110.721436  7291282\n",
       "1    2019-01-01  1114.683960  1116.714722  1099.676147  1110.473877  4498087\n",
       "2    2019-01-02  1104.034912  1116.417480  1090.661621  1096.010864  7212697\n",
       "3    2019-01-03  1097.100586  1104.133911  1079.864014  1082.489136  7517041\n",
       "4    2019-01-04  1087.095459  1094.079224  1070.948486  1088.333740  8545382\n",
       "...         ...          ...          ...          ...          ...      ...\n",
       "1231 2023-12-22  2559.600098  2580.899902  2547.649902  2565.050049  8270892\n",
       "1232 2023-12-26  2568.000000  2591.949951  2562.699951  2578.050049  3732832\n",
       "1233 2023-12-27  2582.000000  2599.899902  2573.100098  2586.850098  4602078\n",
       "1234 2023-12-28  2589.800049  2612.000000  2586.850098  2605.550049  6151318\n",
       "1235 2023-12-29  2611.100098  2614.000000  2579.300049  2584.949951  5432292\n",
       "\n",
       "[1236 rows x 6 columns]"
      ]
     },
     "execution_count": 18,
     "metadata": {},
     "output_type": "execute_result"
    }
   ],
   "source": [
    "df"
   ]
  },
  {
   "cell_type": "code",
   "execution_count": 19,
   "id": "60da62b8",
   "metadata": {
    "execution": {
     "iopub.execute_input": "2024-01-01T07:33:53.898958Z",
     "iopub.status.busy": "2024-01-01T07:33:53.898531Z",
     "iopub.status.idle": "2024-01-01T07:33:53.905634Z",
     "shell.execute_reply": "2024-01-01T07:33:53.904475Z"
    },
    "papermill": {
     "duration": 0.032451,
     "end_time": "2024-01-01T07:33:53.908054",
     "exception": false,
     "start_time": "2024-01-01T07:33:53.875603",
     "status": "completed"
    },
    "tags": []
   },
   "outputs": [],
   "source": [
    "train_size=int(len(df)*0.86)\n",
    "train,test=df.iloc[:train_size,4:5],df.iloc[train_size:len(df),4:5]"
   ]
  },
  {
   "cell_type": "code",
   "execution_count": 20,
   "id": "cc203d1c",
   "metadata": {
    "execution": {
     "iopub.execute_input": "2024-01-01T07:33:53.952467Z",
     "iopub.status.busy": "2024-01-01T07:33:53.952021Z",
     "iopub.status.idle": "2024-01-01T07:33:53.959447Z",
     "shell.execute_reply": "2024-01-01T07:33:53.958239Z"
    },
    "papermill": {
     "duration": 0.033486,
     "end_time": "2024-01-01T07:33:53.962418",
     "exception": false,
     "start_time": "2024-01-01T07:33:53.928932",
     "status": "completed"
    },
    "tags": []
   },
   "outputs": [
    {
     "data": {
      "text/plain": [
       "(174, 1)"
      ]
     },
     "execution_count": 20,
     "metadata": {},
     "output_type": "execute_result"
    }
   ],
   "source": [
    "test.shape"
   ]
  },
  {
   "cell_type": "code",
   "execution_count": 21,
   "id": "1007a47e",
   "metadata": {
    "execution": {
     "iopub.execute_input": "2024-01-01T07:33:54.006574Z",
     "iopub.status.busy": "2024-01-01T07:33:54.006154Z",
     "iopub.status.idle": "2024-01-01T07:33:55.492857Z",
     "shell.execute_reply": "2024-01-01T07:33:55.491669Z"
    },
    "papermill": {
     "duration": 1.512059,
     "end_time": "2024-01-01T07:33:55.495715",
     "exception": false,
     "start_time": "2024-01-01T07:33:53.983656",
     "status": "completed"
    },
    "tags": []
   },
   "outputs": [],
   "source": [
    "from sklearn.preprocessing import MinMaxScaler\n",
    "scaler=MinMaxScaler()\n",
    "train=scaler.fit_transform(train)\n",
    "test=scaler.transform(test)"
   ]
  },
  {
   "cell_type": "code",
   "execution_count": 22,
   "id": "f8ffcf28",
   "metadata": {
    "execution": {
     "iopub.execute_input": "2024-01-01T07:33:55.539964Z",
     "iopub.status.busy": "2024-01-01T07:33:55.539543Z",
     "iopub.status.idle": "2024-01-01T07:33:55.546415Z",
     "shell.execute_reply": "2024-01-01T07:33:55.545356Z"
    },
    "papermill": {
     "duration": 0.032061,
     "end_time": "2024-01-01T07:33:55.548830",
     "exception": false,
     "start_time": "2024-01-01T07:33:55.516769",
     "status": "completed"
    },
    "tags": []
   },
   "outputs": [
    {
     "data": {
      "text/plain": [
       "(1062, 1)"
      ]
     },
     "execution_count": 22,
     "metadata": {},
     "output_type": "execute_result"
    }
   ],
   "source": [
    "train.shape"
   ]
  },
  {
   "cell_type": "code",
   "execution_count": 23,
   "id": "9c5e8fe3",
   "metadata": {
    "execution": {
     "iopub.execute_input": "2024-01-01T07:33:55.593192Z",
     "iopub.status.busy": "2024-01-01T07:33:55.592706Z",
     "iopub.status.idle": "2024-01-01T07:33:55.600062Z",
     "shell.execute_reply": "2024-01-01T07:33:55.598903Z"
    },
    "papermill": {
     "duration": 0.032427,
     "end_time": "2024-01-01T07:33:55.602404",
     "exception": false,
     "start_time": "2024-01-01T07:33:55.569977",
     "status": "completed"
    },
    "tags": []
   },
   "outputs": [],
   "source": [
    "import numpy as np\n",
    "def create_dataset(dataset, time_step=1):\n",
    "    dataX, dataY = [], []\n",
    "    for i in range(len(dataset)-time_step-1):\n",
    "        a = dataset[i:(i+time_step), 0]   ###i=0, 0,1,2,3-----99   100 \n",
    "        dataX.append(a)\n",
    "        dataY.append(dataset[i + time_step, 0])\n",
    "    return np.array(dataX), np.array(dataY)"
   ]
  },
  {
   "cell_type": "code",
   "execution_count": 24,
   "id": "3a8171c9",
   "metadata": {
    "execution": {
     "iopub.execute_input": "2024-01-01T07:33:55.646600Z",
     "iopub.status.busy": "2024-01-01T07:33:55.645952Z",
     "iopub.status.idle": "2024-01-01T07:33:55.653800Z",
     "shell.execute_reply": "2024-01-01T07:33:55.652397Z"
    },
    "papermill": {
     "duration": 0.03322,
     "end_time": "2024-01-01T07:33:55.656577",
     "exception": false,
     "start_time": "2024-01-01T07:33:55.623357",
     "status": "completed"
    },
    "tags": []
   },
   "outputs": [],
   "source": [
    "time_step = 13\n",
    "X_train, y_train = create_dataset(train, time_step)\n",
    "X_test, y_test = create_dataset(test, time_step)"
   ]
  },
  {
   "cell_type": "code",
   "execution_count": 25,
   "id": "ad2c70b4",
   "metadata": {
    "execution": {
     "iopub.execute_input": "2024-01-01T07:33:55.700947Z",
     "iopub.status.busy": "2024-01-01T07:33:55.699975Z",
     "iopub.status.idle": "2024-01-01T07:33:55.726927Z",
     "shell.execute_reply": "2024-01-01T07:33:55.725825Z"
    },
    "papermill": {
     "duration": 0.051706,
     "end_time": "2024-01-01T07:33:55.729415",
     "exception": false,
     "start_time": "2024-01-01T07:33:55.677709",
     "status": "completed"
    },
    "tags": []
   },
   "outputs": [
    {
     "data": {
      "text/html": [
       "<div>\n",
       "<style scoped>\n",
       "    .dataframe tbody tr th:only-of-type {\n",
       "        vertical-align: middle;\n",
       "    }\n",
       "\n",
       "    .dataframe tbody tr th {\n",
       "        vertical-align: top;\n",
       "    }\n",
       "\n",
       "    .dataframe thead th {\n",
       "        text-align: right;\n",
       "    }\n",
       "</style>\n",
       "<table border=\"1\" class=\"dataframe\">\n",
       "  <thead>\n",
       "    <tr style=\"text-align: right;\">\n",
       "      <th></th>\n",
       "      <th>0</th>\n",
       "      <th>1</th>\n",
       "      <th>2</th>\n",
       "      <th>3</th>\n",
       "      <th>4</th>\n",
       "      <th>5</th>\n",
       "      <th>6</th>\n",
       "      <th>7</th>\n",
       "      <th>8</th>\n",
       "      <th>9</th>\n",
       "      <th>10</th>\n",
       "      <th>11</th>\n",
       "      <th>12</th>\n",
       "    </tr>\n",
       "  </thead>\n",
       "  <tbody>\n",
       "    <tr>\n",
       "      <th>0</th>\n",
       "      <td>0.120864</td>\n",
       "      <td>0.120737</td>\n",
       "      <td>0.113298</td>\n",
       "      <td>0.106342</td>\n",
       "      <td>0.109349</td>\n",
       "      <td>0.112457</td>\n",
       "      <td>0.112406</td>\n",
       "      <td>0.115514</td>\n",
       "      <td>0.113858</td>\n",
       "      <td>0.109043</td>\n",
       "      <td>0.108406</td>\n",
       "      <td>0.125145</td>\n",
       "      <td>0.128329</td>\n",
       "    </tr>\n",
       "    <tr>\n",
       "      <th>1</th>\n",
       "      <td>0.120737</td>\n",
       "      <td>0.113298</td>\n",
       "      <td>0.106342</td>\n",
       "      <td>0.109349</td>\n",
       "      <td>0.112457</td>\n",
       "      <td>0.112406</td>\n",
       "      <td>0.115514</td>\n",
       "      <td>0.113858</td>\n",
       "      <td>0.109043</td>\n",
       "      <td>0.108406</td>\n",
       "      <td>0.125145</td>\n",
       "      <td>0.128329</td>\n",
       "      <td>0.127590</td>\n",
       "    </tr>\n",
       "    <tr>\n",
       "      <th>2</th>\n",
       "      <td>0.113298</td>\n",
       "      <td>0.106342</td>\n",
       "      <td>0.109349</td>\n",
       "      <td>0.112457</td>\n",
       "      <td>0.112406</td>\n",
       "      <td>0.115514</td>\n",
       "      <td>0.113858</td>\n",
       "      <td>0.109043</td>\n",
       "      <td>0.108406</td>\n",
       "      <td>0.125145</td>\n",
       "      <td>0.128329</td>\n",
       "      <td>0.127590</td>\n",
       "      <td>0.153017</td>\n",
       "    </tr>\n",
       "    <tr>\n",
       "      <th>3</th>\n",
       "      <td>0.106342</td>\n",
       "      <td>0.109349</td>\n",
       "      <td>0.112457</td>\n",
       "      <td>0.112406</td>\n",
       "      <td>0.115514</td>\n",
       "      <td>0.113858</td>\n",
       "      <td>0.109043</td>\n",
       "      <td>0.108406</td>\n",
       "      <td>0.125145</td>\n",
       "      <td>0.128329</td>\n",
       "      <td>0.127590</td>\n",
       "      <td>0.153017</td>\n",
       "      <td>0.180201</td>\n",
       "    </tr>\n",
       "    <tr>\n",
       "      <th>4</th>\n",
       "      <td>0.109349</td>\n",
       "      <td>0.112457</td>\n",
       "      <td>0.112406</td>\n",
       "      <td>0.115514</td>\n",
       "      <td>0.113858</td>\n",
       "      <td>0.109043</td>\n",
       "      <td>0.108406</td>\n",
       "      <td>0.125145</td>\n",
       "      <td>0.128329</td>\n",
       "      <td>0.127590</td>\n",
       "      <td>0.153017</td>\n",
       "      <td>0.180201</td>\n",
       "      <td>0.178902</td>\n",
       "    </tr>\n",
       "    <tr>\n",
       "      <th>5</th>\n",
       "      <td>0.112457</td>\n",
       "      <td>0.112406</td>\n",
       "      <td>0.115514</td>\n",
       "      <td>0.113858</td>\n",
       "      <td>0.109043</td>\n",
       "      <td>0.108406</td>\n",
       "      <td>0.125145</td>\n",
       "      <td>0.128329</td>\n",
       "      <td>0.127590</td>\n",
       "      <td>0.153017</td>\n",
       "      <td>0.180201</td>\n",
       "      <td>0.178902</td>\n",
       "      <td>0.174392</td>\n",
       "    </tr>\n",
       "    <tr>\n",
       "      <th>6</th>\n",
       "      <td>0.112406</td>\n",
       "      <td>0.115514</td>\n",
       "      <td>0.113858</td>\n",
       "      <td>0.109043</td>\n",
       "      <td>0.108406</td>\n",
       "      <td>0.125145</td>\n",
       "      <td>0.128329</td>\n",
       "      <td>0.127590</td>\n",
       "      <td>0.153017</td>\n",
       "      <td>0.180201</td>\n",
       "      <td>0.178902</td>\n",
       "      <td>0.174392</td>\n",
       "      <td>0.185169</td>\n",
       "    </tr>\n",
       "    <tr>\n",
       "      <th>7</th>\n",
       "      <td>0.115514</td>\n",
       "      <td>0.113858</td>\n",
       "      <td>0.109043</td>\n",
       "      <td>0.108406</td>\n",
       "      <td>0.125145</td>\n",
       "      <td>0.128329</td>\n",
       "      <td>0.127590</td>\n",
       "      <td>0.153017</td>\n",
       "      <td>0.180201</td>\n",
       "      <td>0.178902</td>\n",
       "      <td>0.174392</td>\n",
       "      <td>0.185169</td>\n",
       "      <td>0.184430</td>\n",
       "    </tr>\n",
       "    <tr>\n",
       "      <th>8</th>\n",
       "      <td>0.113858</td>\n",
       "      <td>0.109043</td>\n",
       "      <td>0.108406</td>\n",
       "      <td>0.125145</td>\n",
       "      <td>0.128329</td>\n",
       "      <td>0.127590</td>\n",
       "      <td>0.153017</td>\n",
       "      <td>0.180201</td>\n",
       "      <td>0.178902</td>\n",
       "      <td>0.174392</td>\n",
       "      <td>0.185169</td>\n",
       "      <td>0.184430</td>\n",
       "      <td>0.176048</td>\n",
       "    </tr>\n",
       "    <tr>\n",
       "      <th>9</th>\n",
       "      <td>0.109043</td>\n",
       "      <td>0.108406</td>\n",
       "      <td>0.125145</td>\n",
       "      <td>0.128329</td>\n",
       "      <td>0.127590</td>\n",
       "      <td>0.153017</td>\n",
       "      <td>0.180201</td>\n",
       "      <td>0.178902</td>\n",
       "      <td>0.174392</td>\n",
       "      <td>0.185169</td>\n",
       "      <td>0.184430</td>\n",
       "      <td>0.176048</td>\n",
       "      <td>0.166418</td>\n",
       "    </tr>\n",
       "    <tr>\n",
       "      <th>10</th>\n",
       "      <td>0.108406</td>\n",
       "      <td>0.125145</td>\n",
       "      <td>0.128329</td>\n",
       "      <td>0.127590</td>\n",
       "      <td>0.153017</td>\n",
       "      <td>0.180201</td>\n",
       "      <td>0.178902</td>\n",
       "      <td>0.174392</td>\n",
       "      <td>0.185169</td>\n",
       "      <td>0.184430</td>\n",
       "      <td>0.176048</td>\n",
       "      <td>0.166418</td>\n",
       "      <td>0.158800</td>\n",
       "    </tr>\n",
       "    <tr>\n",
       "      <th>11</th>\n",
       "      <td>0.125145</td>\n",
       "      <td>0.128329</td>\n",
       "      <td>0.127590</td>\n",
       "      <td>0.153017</td>\n",
       "      <td>0.180201</td>\n",
       "      <td>0.178902</td>\n",
       "      <td>0.174392</td>\n",
       "      <td>0.185169</td>\n",
       "      <td>0.184430</td>\n",
       "      <td>0.176048</td>\n",
       "      <td>0.166418</td>\n",
       "      <td>0.158800</td>\n",
       "      <td>0.174825</td>\n",
       "    </tr>\n",
       "    <tr>\n",
       "      <th>12</th>\n",
       "      <td>0.128329</td>\n",
       "      <td>0.127590</td>\n",
       "      <td>0.153017</td>\n",
       "      <td>0.180201</td>\n",
       "      <td>0.178902</td>\n",
       "      <td>0.174392</td>\n",
       "      <td>0.185169</td>\n",
       "      <td>0.184430</td>\n",
       "      <td>0.176048</td>\n",
       "      <td>0.166418</td>\n",
       "      <td>0.158800</td>\n",
       "      <td>0.174825</td>\n",
       "      <td>0.186443</td>\n",
       "    </tr>\n",
       "    <tr>\n",
       "      <th>13</th>\n",
       "      <td>0.127590</td>\n",
       "      <td>0.153017</td>\n",
       "      <td>0.180201</td>\n",
       "      <td>0.178902</td>\n",
       "      <td>0.174392</td>\n",
       "      <td>0.185169</td>\n",
       "      <td>0.184430</td>\n",
       "      <td>0.176048</td>\n",
       "      <td>0.166418</td>\n",
       "      <td>0.158800</td>\n",
       "      <td>0.174825</td>\n",
       "      <td>0.186443</td>\n",
       "      <td>0.207309</td>\n",
       "    </tr>\n",
       "    <tr>\n",
       "      <th>14</th>\n",
       "      <td>0.153017</td>\n",
       "      <td>0.180201</td>\n",
       "      <td>0.178902</td>\n",
       "      <td>0.174392</td>\n",
       "      <td>0.185169</td>\n",
       "      <td>0.184430</td>\n",
       "      <td>0.176048</td>\n",
       "      <td>0.166418</td>\n",
       "      <td>0.158800</td>\n",
       "      <td>0.174825</td>\n",
       "      <td>0.186443</td>\n",
       "      <td>0.207309</td>\n",
       "      <td>0.207640</td>\n",
       "    </tr>\n",
       "  </tbody>\n",
       "</table>\n",
       "</div>"
      ],
      "text/plain": [
       "          0         1         2         3         4         5         6   \\\n",
       "0   0.120864  0.120737  0.113298  0.106342  0.109349  0.112457  0.112406   \n",
       "1   0.120737  0.113298  0.106342  0.109349  0.112457  0.112406  0.115514   \n",
       "2   0.113298  0.106342  0.109349  0.112457  0.112406  0.115514  0.113858   \n",
       "3   0.106342  0.109349  0.112457  0.112406  0.115514  0.113858  0.109043   \n",
       "4   0.109349  0.112457  0.112406  0.115514  0.113858  0.109043  0.108406   \n",
       "5   0.112457  0.112406  0.115514  0.113858  0.109043  0.108406  0.125145   \n",
       "6   0.112406  0.115514  0.113858  0.109043  0.108406  0.125145  0.128329   \n",
       "7   0.115514  0.113858  0.109043  0.108406  0.125145  0.128329  0.127590   \n",
       "8   0.113858  0.109043  0.108406  0.125145  0.128329  0.127590  0.153017   \n",
       "9   0.109043  0.108406  0.125145  0.128329  0.127590  0.153017  0.180201   \n",
       "10  0.108406  0.125145  0.128329  0.127590  0.153017  0.180201  0.178902   \n",
       "11  0.125145  0.128329  0.127590  0.153017  0.180201  0.178902  0.174392   \n",
       "12  0.128329  0.127590  0.153017  0.180201  0.178902  0.174392  0.185169   \n",
       "13  0.127590  0.153017  0.180201  0.178902  0.174392  0.185169  0.184430   \n",
       "14  0.153017  0.180201  0.178902  0.174392  0.185169  0.184430  0.176048   \n",
       "\n",
       "          7         8         9         10        11        12  \n",
       "0   0.115514  0.113858  0.109043  0.108406  0.125145  0.128329  \n",
       "1   0.113858  0.109043  0.108406  0.125145  0.128329  0.127590  \n",
       "2   0.109043  0.108406  0.125145  0.128329  0.127590  0.153017  \n",
       "3   0.108406  0.125145  0.128329  0.127590  0.153017  0.180201  \n",
       "4   0.125145  0.128329  0.127590  0.153017  0.180201  0.178902  \n",
       "5   0.128329  0.127590  0.153017  0.180201  0.178902  0.174392  \n",
       "6   0.127590  0.153017  0.180201  0.178902  0.174392  0.185169  \n",
       "7   0.153017  0.180201  0.178902  0.174392  0.185169  0.184430  \n",
       "8   0.180201  0.178902  0.174392  0.185169  0.184430  0.176048  \n",
       "9   0.178902  0.174392  0.185169  0.184430  0.176048  0.166418  \n",
       "10  0.174392  0.185169  0.184430  0.176048  0.166418  0.158800  \n",
       "11  0.185169  0.184430  0.176048  0.166418  0.158800  0.174825  \n",
       "12  0.184430  0.176048  0.166418  0.158800  0.174825  0.186443  \n",
       "13  0.176048  0.166418  0.158800  0.174825  0.186443  0.207309  \n",
       "14  0.166418  0.158800  0.174825  0.186443  0.207309  0.207640  "
      ]
     },
     "execution_count": 25,
     "metadata": {},
     "output_type": "execute_result"
    }
   ],
   "source": [
    "pd.DataFrame(X_train).head(15)"
   ]
  },
  {
   "cell_type": "code",
   "execution_count": 26,
   "id": "e8cf93e0",
   "metadata": {
    "execution": {
     "iopub.execute_input": "2024-01-01T07:33:55.775375Z",
     "iopub.status.busy": "2024-01-01T07:33:55.774957Z",
     "iopub.status.idle": "2024-01-01T07:33:56.021291Z",
     "shell.execute_reply": "2024-01-01T07:33:56.020056Z"
    },
    "papermill": {
     "duration": 0.272349,
     "end_time": "2024-01-01T07:33:56.023926",
     "exception": false,
     "start_time": "2024-01-01T07:33:55.751577",
     "status": "completed"
    },
    "tags": []
   },
   "outputs": [
    {
     "data": {
      "text/html": [
       "<style>#sk-container-id-1 {color: black;background-color: white;}#sk-container-id-1 pre{padding: 0;}#sk-container-id-1 div.sk-toggleable {background-color: white;}#sk-container-id-1 label.sk-toggleable__label {cursor: pointer;display: block;width: 100%;margin-bottom: 0;padding: 0.3em;box-sizing: border-box;text-align: center;}#sk-container-id-1 label.sk-toggleable__label-arrow:before {content: \"▸\";float: left;margin-right: 0.25em;color: #696969;}#sk-container-id-1 label.sk-toggleable__label-arrow:hover:before {color: black;}#sk-container-id-1 div.sk-estimator:hover label.sk-toggleable__label-arrow:before {color: black;}#sk-container-id-1 div.sk-toggleable__content {max-height: 0;max-width: 0;overflow: hidden;text-align: left;background-color: #f0f8ff;}#sk-container-id-1 div.sk-toggleable__content pre {margin: 0.2em;color: black;border-radius: 0.25em;background-color: #f0f8ff;}#sk-container-id-1 input.sk-toggleable__control:checked~div.sk-toggleable__content {max-height: 200px;max-width: 100%;overflow: auto;}#sk-container-id-1 input.sk-toggleable__control:checked~label.sk-toggleable__label-arrow:before {content: \"▾\";}#sk-container-id-1 div.sk-estimator input.sk-toggleable__control:checked~label.sk-toggleable__label {background-color: #d4ebff;}#sk-container-id-1 div.sk-label input.sk-toggleable__control:checked~label.sk-toggleable__label {background-color: #d4ebff;}#sk-container-id-1 input.sk-hidden--visually {border: 0;clip: rect(1px 1px 1px 1px);clip: rect(1px, 1px, 1px, 1px);height: 1px;margin: -1px;overflow: hidden;padding: 0;position: absolute;width: 1px;}#sk-container-id-1 div.sk-estimator {font-family: monospace;background-color: #f0f8ff;border: 1px dotted black;border-radius: 0.25em;box-sizing: border-box;margin-bottom: 0.5em;}#sk-container-id-1 div.sk-estimator:hover {background-color: #d4ebff;}#sk-container-id-1 div.sk-parallel-item::after {content: \"\";width: 100%;border-bottom: 1px solid gray;flex-grow: 1;}#sk-container-id-1 div.sk-label:hover label.sk-toggleable__label {background-color: #d4ebff;}#sk-container-id-1 div.sk-serial::before {content: \"\";position: absolute;border-left: 1px solid gray;box-sizing: border-box;top: 0;bottom: 0;left: 50%;z-index: 0;}#sk-container-id-1 div.sk-serial {display: flex;flex-direction: column;align-items: center;background-color: white;padding-right: 0.2em;padding-left: 0.2em;position: relative;}#sk-container-id-1 div.sk-item {position: relative;z-index: 1;}#sk-container-id-1 div.sk-parallel {display: flex;align-items: stretch;justify-content: center;background-color: white;position: relative;}#sk-container-id-1 div.sk-item::before, #sk-container-id-1 div.sk-parallel-item::before {content: \"\";position: absolute;border-left: 1px solid gray;box-sizing: border-box;top: 0;bottom: 0;left: 50%;z-index: -1;}#sk-container-id-1 div.sk-parallel-item {display: flex;flex-direction: column;z-index: 1;position: relative;background-color: white;}#sk-container-id-1 div.sk-parallel-item:first-child::after {align-self: flex-end;width: 50%;}#sk-container-id-1 div.sk-parallel-item:last-child::after {align-self: flex-start;width: 50%;}#sk-container-id-1 div.sk-parallel-item:only-child::after {width: 0;}#sk-container-id-1 div.sk-dashed-wrapped {border: 1px dashed gray;margin: 0 0.4em 0.5em 0.4em;box-sizing: border-box;padding-bottom: 0.4em;background-color: white;}#sk-container-id-1 div.sk-label label {font-family: monospace;font-weight: bold;display: inline-block;line-height: 1.2em;}#sk-container-id-1 div.sk-label-container {text-align: center;}#sk-container-id-1 div.sk-container {/* jupyter's `normalize.less` sets `[hidden] { display: none; }` but bootstrap.min.css set `[hidden] { display: none !important; }` so we also need the `!important` here to be able to override the default hidden behavior on the sphinx rendered scikit-learn.org. See: https://github.com/scikit-learn/scikit-learn/issues/21755 */display: inline-block !important;position: relative;}#sk-container-id-1 div.sk-text-repr-fallback {display: none;}</style><div id=\"sk-container-id-1\" class=\"sk-top-container\"><div class=\"sk-text-repr-fallback\"><pre>SVR()</pre><b>In a Jupyter environment, please rerun this cell to show the HTML representation or trust the notebook. <br />On GitHub, the HTML representation is unable to render, please try loading this page with nbviewer.org.</b></div><div class=\"sk-container\" hidden><div class=\"sk-item\"><div class=\"sk-estimator sk-toggleable\"><input class=\"sk-toggleable__control sk-hidden--visually\" id=\"sk-estimator-id-1\" type=\"checkbox\" checked><label for=\"sk-estimator-id-1\" class=\"sk-toggleable__label sk-toggleable__label-arrow\">SVR</label><div class=\"sk-toggleable__content\"><pre>SVR()</pre></div></div></div></div></div>"
      ],
      "text/plain": [
       "SVR()"
      ]
     },
     "execution_count": 26,
     "metadata": {},
     "output_type": "execute_result"
    }
   ],
   "source": [
    "from sklearn.svm import SVR\n",
    "svr=SVR()\n",
    "svr.fit(X_train,y_train)"
   ]
  },
  {
   "cell_type": "code",
   "execution_count": 27,
   "id": "73ead980",
   "metadata": {
    "execution": {
     "iopub.execute_input": "2024-01-01T07:33:56.069956Z",
     "iopub.status.busy": "2024-01-01T07:33:56.069545Z",
     "iopub.status.idle": "2024-01-01T07:33:56.074676Z",
     "shell.execute_reply": "2024-01-01T07:33:56.073678Z"
    },
    "papermill": {
     "duration": 0.030989,
     "end_time": "2024-01-01T07:33:56.077225",
     "exception": false,
     "start_time": "2024-01-01T07:33:56.046236",
     "status": "completed"
    },
    "tags": []
   },
   "outputs": [],
   "source": [
    "ypred=svr.predict(X_test)"
   ]
  },
  {
   "cell_type": "code",
   "execution_count": 28,
   "id": "8be4e25c",
   "metadata": {
    "execution": {
     "iopub.execute_input": "2024-01-01T07:33:56.125635Z",
     "iopub.status.busy": "2024-01-01T07:33:56.125217Z",
     "iopub.status.idle": "2024-01-01T07:33:56.132322Z",
     "shell.execute_reply": "2024-01-01T07:33:56.131469Z"
    },
    "papermill": {
     "duration": 0.033815,
     "end_time": "2024-01-01T07:33:56.135092",
     "exception": false,
     "start_time": "2024-01-01T07:33:56.101277",
     "status": "completed"
    },
    "tags": []
   },
   "outputs": [
    {
     "name": "stdout",
     "output_type": "stream",
     "text": [
      "mse =  0.0009871613573582158\n",
      "mae =  0.023083554788746036\n"
     ]
    }
   ],
   "source": [
    "from sklearn.metrics import mean_squared_error, mean_absolute_error, explained_variance_score,r2_score\n",
    "print('mse = ',mean_squared_error(y_test,ypred))\n",
    "print('mae = ',mean_absolute_error(y_test,ypred))"
   ]
  },
  {
   "cell_type": "code",
   "execution_count": 29,
   "id": "d893c098",
   "metadata": {
    "execution": {
     "iopub.execute_input": "2024-01-01T07:33:56.181640Z",
     "iopub.status.busy": "2024-01-01T07:33:56.181250Z",
     "iopub.status.idle": "2024-01-01T07:33:56.187600Z",
     "shell.execute_reply": "2024-01-01T07:33:56.186403Z"
    },
    "papermill": {
     "duration": 0.032431,
     "end_time": "2024-01-01T07:33:56.190209",
     "exception": false,
     "start_time": "2024-01-01T07:33:56.157778",
     "status": "completed"
    },
    "tags": []
   },
   "outputs": [
    {
     "name": "stdout",
     "output_type": "stream",
     "text": [
      "test data variance explained variance regression score 0.7418105662176953\n"
     ]
    }
   ],
   "source": [
    "print('test data variance explained variance regression score',explained_variance_score(y_test,ypred))"
   ]
  },
  {
   "cell_type": "code",
   "execution_count": 30,
   "id": "3448e7ea",
   "metadata": {
    "execution": {
     "iopub.execute_input": "2024-01-01T07:33:56.236566Z",
     "iopub.status.busy": "2024-01-01T07:33:56.236147Z",
     "iopub.status.idle": "2024-01-01T07:33:56.242639Z",
     "shell.execute_reply": "2024-01-01T07:33:56.241552Z"
    },
    "papermill": {
     "duration": 0.033212,
     "end_time": "2024-01-01T07:33:56.245356",
     "exception": false,
     "start_time": "2024-01-01T07:33:56.212144",
     "status": "completed"
    },
    "tags": []
   },
   "outputs": [
    {
     "name": "stdout",
     "output_type": "stream",
     "text": [
      "r2score =  0.7182680838777661\n"
     ]
    }
   ],
   "source": [
    "print('r2score = ',r2_score(y_test,ypred))"
   ]
  },
  {
   "cell_type": "code",
   "execution_count": 31,
   "id": "36b11842",
   "metadata": {
    "execution": {
     "iopub.execute_input": "2024-01-01T07:33:56.292644Z",
     "iopub.status.busy": "2024-01-01T07:33:56.292234Z",
     "iopub.status.idle": "2024-01-01T07:33:56.299132Z",
     "shell.execute_reply": "2024-01-01T07:33:56.297923Z"
    },
    "papermill": {
     "duration": 0.033145,
     "end_time": "2024-01-01T07:33:56.301709",
     "exception": false,
     "start_time": "2024-01-01T07:33:56.268564",
     "status": "completed"
    },
    "tags": []
   },
   "outputs": [],
   "source": [
    "d=pd.DataFrame(y_test,ypred).reset_index()"
   ]
  },
  {
   "cell_type": "code",
   "execution_count": 32,
   "id": "4a18f2c2",
   "metadata": {
    "execution": {
     "iopub.execute_input": "2024-01-01T07:33:56.349003Z",
     "iopub.status.busy": "2024-01-01T07:33:56.348552Z",
     "iopub.status.idle": "2024-01-01T07:33:56.355214Z",
     "shell.execute_reply": "2024-01-01T07:33:56.353939Z"
    },
    "papermill": {
     "duration": 0.033528,
     "end_time": "2024-01-01T07:33:56.357678",
     "exception": false,
     "start_time": "2024-01-01T07:33:56.324150",
     "status": "completed"
    },
    "tags": []
   },
   "outputs": [],
   "source": [
    "d.rename(columns={0:'ypred'},inplace=True)"
   ]
  },
  {
   "cell_type": "code",
   "execution_count": 33,
   "id": "97cf05d1",
   "metadata": {
    "execution": {
     "iopub.execute_input": "2024-01-01T07:33:56.406569Z",
     "iopub.status.busy": "2024-01-01T07:33:56.406188Z",
     "iopub.status.idle": "2024-01-01T07:33:56.779918Z",
     "shell.execute_reply": "2024-01-01T07:33:56.778636Z"
    },
    "papermill": {
     "duration": 0.402069,
     "end_time": "2024-01-01T07:33:56.782642",
     "exception": false,
     "start_time": "2024-01-01T07:33:56.380573",
     "status": "completed"
    },
    "tags": []
   },
   "outputs": [
    {
     "data": {
      "text/plain": [
       "<Axes: >"
      ]
     },
     "execution_count": 33,
     "metadata": {},
     "output_type": "execute_result"
    },
    {
     "data": {
      "image/png": "[encoded data removed]",
      "text/plain": [
       "<Figure size 640x480 with 1 Axes>"
      ]
     },
     "metadata": {},
     "output_type": "display_data"
    }
   ],
   "source": [
    "d.plot()"
   ]
  },
  {
   "cell_type": "code",
   "execution_count": 34,
   "id": "769ced24",
   "metadata": {
    "execution": {
     "iopub.execute_input": "2024-01-01T07:33:56.831884Z",
     "iopub.status.busy": "2024-01-01T07:33:56.830706Z",
     "iopub.status.idle": "2024-01-01T07:34:12.671249Z",
     "shell.execute_reply": "2024-01-01T07:34:12.669967Z"
    },
    "papermill": {
     "duration": 15.868149,
     "end_time": "2024-01-01T07:34:12.674375",
     "exception": false,
     "start_time": "2024-01-01T07:33:56.806226",
     "status": "completed"
    },
    "tags": []
   },
   "outputs": [],
   "source": [
    "from sklearn.metrics import mean_squared_error, mean_absolute_error, explained_variance_score, r2_score \n",
    "from sklearn.metrics import mean_poisson_deviance, mean_gamma_deviance, accuracy_score\n",
    "from sklearn.preprocessing import MinMaxScaler\n",
    "\n",
    "import tensorflow as tf\n",
    "from tensorflow.keras.models import Sequential\n",
    "from tensorflow.keras.layers import Dense\n",
    "from tensorflow.keras.layers import LSTM, GRU\n",
    "\n",
    "from itertools import cycle\n",
    "\n",
    "import plotly.graph_objects as go\n",
    "import plotly.express as px\n",
    "from plotly.subplots import make_subplots"
   ]
  },
  {
   "cell_type": "code",
   "execution_count": 35,
   "id": "d206619d",
   "metadata": {
    "execution": {
     "iopub.execute_input": "2024-01-01T07:34:12.724542Z",
     "iopub.status.busy": "2024-01-01T07:34:12.722905Z",
     "iopub.status.idle": "2024-01-01T07:34:13.890036Z",
     "shell.execute_reply": "2024-01-01T07:34:13.888749Z"
    },
    "papermill": {
     "duration": 1.194553,
     "end_time": "2024-01-01T07:34:13.892600",
     "exception": false,
     "start_time": "2024-01-01T07:34:12.698047",
     "status": "completed"
    },
    "tags": []
   },
   "outputs": [
    {
     "data": {
      "text/html": [
       "<style>#sk-container-id-2 {color: black;background-color: white;}#sk-container-id-2 pre{padding: 0;}#sk-container-id-2 div.sk-toggleable {background-color: white;}#sk-container-id-2 label.sk-toggleable__label {cursor: pointer;display: block;width: 100%;margin-bottom: 0;padding: 0.3em;box-sizing: border-box;text-align: center;}#sk-container-id-2 label.sk-toggleable__label-arrow:before {content: \"▸\";float: left;margin-right: 0.25em;color: #696969;}#sk-container-id-2 label.sk-toggleable__label-arrow:hover:before {color: black;}#sk-container-id-2 div.sk-estimator:hover label.sk-toggleable__label-arrow:before {color: black;}#sk-container-id-2 div.sk-toggleable__content {max-height: 0;max-width: 0;overflow: hidden;text-align: left;background-color: #f0f8ff;}#sk-container-id-2 div.sk-toggleable__content pre {margin: 0.2em;color: black;border-radius: 0.25em;background-color: #f0f8ff;}#sk-container-id-2 input.sk-toggleable__control:checked~div.sk-toggleable__content {max-height: 200px;max-width: 100%;overflow: auto;}#sk-container-id-2 input.sk-toggleable__control:checked~label.sk-toggleable__label-arrow:before {content: \"▾\";}#sk-container-id-2 div.sk-estimator input.sk-toggleable__control:checked~label.sk-toggleable__label {background-color: #d4ebff;}#sk-container-id-2 div.sk-label input.sk-toggleable__control:checked~label.sk-toggleable__label {background-color: #d4ebff;}#sk-container-id-2 input.sk-hidden--visually {border: 0;clip: rect(1px 1px 1px 1px);clip: rect(1px, 1px, 1px, 1px);height: 1px;margin: -1px;overflow: hidden;padding: 0;position: absolute;width: 1px;}#sk-container-id-2 div.sk-estimator {font-family: monospace;background-color: #f0f8ff;border: 1px dotted black;border-radius: 0.25em;box-sizing: border-box;margin-bottom: 0.5em;}#sk-container-id-2 div.sk-estimator:hover {background-color: #d4ebff;}#sk-container-id-2 div.sk-parallel-item::after {content: \"\";width: 100%;border-bottom: 1px solid gray;flex-grow: 1;}#sk-container-id-2 div.sk-label:hover label.sk-toggleable__label {background-color: #d4ebff;}#sk-container-id-2 div.sk-serial::before {content: \"\";position: absolute;border-left: 1px solid gray;box-sizing: border-box;top: 0;bottom: 0;left: 50%;z-index: 0;}#sk-container-id-2 div.sk-serial {display: flex;flex-direction: column;align-items: center;background-color: white;padding-right: 0.2em;padding-left: 0.2em;position: relative;}#sk-container-id-2 div.sk-item {position: relative;z-index: 1;}#sk-container-id-2 div.sk-parallel {display: flex;align-items: stretch;justify-content: center;background-color: white;position: relative;}#sk-container-id-2 div.sk-item::before, #sk-container-id-2 div.sk-parallel-item::before {content: \"\";position: absolute;border-left: 1px solid gray;box-sizing: border-box;top: 0;bottom: 0;left: 50%;z-index: -1;}#sk-container-id-2 div.sk-parallel-item {display: flex;flex-direction: column;z-index: 1;position: relative;background-color: white;}#sk-container-id-2 div.sk-parallel-item:first-child::after {align-self: flex-end;width: 50%;}#sk-container-id-2 div.sk-parallel-item:last-child::after {align-self: flex-start;width: 50%;}#sk-container-id-2 div.sk-parallel-item:only-child::after {width: 0;}#sk-container-id-2 div.sk-dashed-wrapped {border: 1px dashed gray;margin: 0 0.4em 0.5em 0.4em;box-sizing: border-box;padding-bottom: 0.4em;background-color: white;}#sk-container-id-2 div.sk-label label {font-family: monospace;font-weight: bold;display: inline-block;line-height: 1.2em;}#sk-container-id-2 div.sk-label-container {text-align: center;}#sk-container-id-2 div.sk-container {/* jupyter's `normalize.less` sets `[hidden] { display: none; }` but bootstrap.min.css set `[hidden] { display: none !important; }` so we also need the `!important` here to be able to override the default hidden behavior on the sphinx rendered scikit-learn.org. See: https://github.com/scikit-learn/scikit-learn/issues/21755 */display: inline-block !important;position: relative;}#sk-container-id-2 div.sk-text-repr-fallback {display: none;}</style><div id=\"sk-container-id-2\" class=\"sk-top-container\"><div class=\"sk-text-repr-fallback\"><pre>RandomForestRegressor()</pre><b>In a Jupyter environment, please rerun this cell to show the HTML representation or trust the notebook. <br />On GitHub, the HTML representation is unable to render, please try loading this page with nbviewer.org.</b></div><div class=\"sk-container\" hidden><div class=\"sk-item\"><div class=\"sk-estimator sk-toggleable\"><input class=\"sk-toggleable__control sk-hidden--visually\" id=\"sk-estimator-id-2\" type=\"checkbox\" checked><label for=\"sk-estimator-id-2\" class=\"sk-toggleable__label sk-toggleable__label-arrow\">RandomForestRegressor</label><div class=\"sk-toggleable__content\"><pre>RandomForestRegressor()</pre></div></div></div></div></div>"
      ],
      "text/plain": [
       "RandomForestRegressor()"
      ]
     },
     "execution_count": 35,
     "metadata": {},
     "output_type": "execute_result"
    }
   ],
   "source": [
    "from sklearn.ensemble import RandomForestRegressor\n",
    "regressor=RandomForestRegressor()\n",
    "regressor.fit(X_train,y_train)"
   ]
  },
  {
   "cell_type": "code",
   "execution_count": 36,
   "id": "ff543932",
   "metadata": {
    "execution": {
     "iopub.execute_input": "2024-01-01T07:34:13.942646Z",
     "iopub.status.busy": "2024-01-01T07:34:13.942212Z",
     "iopub.status.idle": "2024-01-01T07:34:13.962707Z",
     "shell.execute_reply": "2024-01-01T07:34:13.961158Z"
    },
    "papermill": {
     "duration": 0.049953,
     "end_time": "2024-01-01T07:34:13.966024",
     "exception": false,
     "start_time": "2024-01-01T07:34:13.916071",
     "status": "completed"
    },
    "tags": []
   },
   "outputs": [],
   "source": [
    "ypred=regressor.predict(X_test)"
   ]
  },
  {
   "cell_type": "code",
   "execution_count": 37,
   "id": "951f783c",
   "metadata": {
    "execution": {
     "iopub.execute_input": "2024-01-01T07:34:14.036935Z",
     "iopub.status.busy": "2024-01-01T07:34:14.036359Z",
     "iopub.status.idle": "2024-01-01T07:34:14.048206Z",
     "shell.execute_reply": "2024-01-01T07:34:14.046986Z"
    },
    "papermill": {
     "duration": 0.051254,
     "end_time": "2024-01-01T07:34:14.050964",
     "exception": false,
     "start_time": "2024-01-01T07:34:13.999710",
     "status": "completed"
    },
    "tags": []
   },
   "outputs": [
    {
     "name": "stdout",
     "output_type": "stream",
     "text": [
      "mse =  0.0002910114618753028\n",
      "mae =  0.012797457773598758\n",
      "test data variance explained variance regression score 0.9169975109199032\n",
      "r2score =  0.9169464888829614\n"
     ]
    }
   ],
   "source": [
    "from sklearn.metrics import mean_squared_error, mean_absolute_error, explained_variance_score,r2_score\n",
    "print('mse = ',mean_squared_error(y_test,ypred))\n",
    "print('mae = ',mean_absolute_error(y_test,ypred))\n",
    "print('test data variance explained variance regression score',explained_variance_score(y_test,ypred))\n",
    "print('r2score = ',r2_score(y_test,ypred))"
   ]
  },
  {
   "cell_type": "code",
   "execution_count": 38,
   "id": "41c406a7",
   "metadata": {
    "execution": {
     "iopub.execute_input": "2024-01-01T07:34:14.102958Z",
     "iopub.status.busy": "2024-01-01T07:34:14.101663Z",
     "iopub.status.idle": "2024-01-01T07:34:14.514900Z",
     "shell.execute_reply": "2024-01-01T07:34:14.513668Z"
    },
    "papermill": {
     "duration": 0.443019,
     "end_time": "2024-01-01T07:34:14.518866",
     "exception": false,
     "start_time": "2024-01-01T07:34:14.075847",
     "status": "completed"
    },
    "tags": []
   },
   "outputs": [
    {
     "data": {
      "text/plain": [
       "<Axes: >"
      ]
     },
     "execution_count": 38,
     "metadata": {},
     "output_type": "execute_result"
    },
    {
     "data": {
      "image/png": "[encoded data removed]",
      "text/plain": [
       "<Figure size 640x480 with 1 Axes>"
      ]
     },
     "metadata": {},
     "output_type": "display_data"
    }
   ],
   "source": [
    "d=pd.DataFrame(y_test,ypred).reset_index()\n",
    "d.rename(columns={'index':'y_test',0:'ypred'},inplace=True)\n",
    "d.plot()"
   ]
  },
  {
   "cell_type": "code",
   "execution_count": 39,
   "id": "54a91a3c",
   "metadata": {
    "execution": {
     "iopub.execute_input": "2024-01-01T07:34:14.574441Z",
     "iopub.status.busy": "2024-01-01T07:34:14.573372Z",
     "iopub.status.idle": "2024-01-01T07:34:14.586709Z",
     "shell.execute_reply": "2024-01-01T07:34:14.585633Z"
    },
    "papermill": {
     "duration": 0.042727,
     "end_time": "2024-01-01T07:34:14.589321",
     "exception": false,
     "start_time": "2024-01-01T07:34:14.546594",
     "status": "completed"
    },
    "tags": []
   },
   "outputs": [
    {
     "data": {
      "text/html": [
       "<style>#sk-container-id-3 {color: black;background-color: white;}#sk-container-id-3 pre{padding: 0;}#sk-container-id-3 div.sk-toggleable {background-color: white;}#sk-container-id-3 label.sk-toggleable__label {cursor: pointer;display: block;width: 100%;margin-bottom: 0;padding: 0.3em;box-sizing: border-box;text-align: center;}#sk-container-id-3 label.sk-toggleable__label-arrow:before {content: \"▸\";float: left;margin-right: 0.25em;color: #696969;}#sk-container-id-3 label.sk-toggleable__label-arrow:hover:before {color: black;}#sk-container-id-3 div.sk-estimator:hover label.sk-toggleable__label-arrow:before {color: black;}#sk-container-id-3 div.sk-toggleable__content {max-height: 0;max-width: 0;overflow: hidden;text-align: left;background-color: #f0f8ff;}#sk-container-id-3 div.sk-toggleable__content pre {margin: 0.2em;color: black;border-radius: 0.25em;background-color: #f0f8ff;}#sk-container-id-3 input.sk-toggleable__control:checked~div.sk-toggleable__content {max-height: 200px;max-width: 100%;overflow: auto;}#sk-container-id-3 input.sk-toggleable__control:checked~label.sk-toggleable__label-arrow:before {content: \"▾\";}#sk-container-id-3 div.sk-estimator input.sk-toggleable__control:checked~label.sk-toggleable__label {background-color: #d4ebff;}#sk-container-id-3 div.sk-label input.sk-toggleable__control:checked~label.sk-toggleable__label {background-color: #d4ebff;}#sk-container-id-3 input.sk-hidden--visually {border: 0;clip: rect(1px 1px 1px 1px);clip: rect(1px, 1px, 1px, 1px);height: 1px;margin: -1px;overflow: hidden;padding: 0;position: absolute;width: 1px;}#sk-container-id-3 div.sk-estimator {font-family: monospace;background-color: #f0f8ff;border: 1px dotted black;border-radius: 0.25em;box-sizing: border-box;margin-bottom: 0.5em;}#sk-container-id-3 div.sk-estimator:hover {background-color: #d4ebff;}#sk-container-id-3 div.sk-parallel-item::after {content: \"\";width: 100%;border-bottom: 1px solid gray;flex-grow: 1;}#sk-container-id-3 div.sk-label:hover label.sk-toggleable__label {background-color: #d4ebff;}#sk-container-id-3 div.sk-serial::before {content: \"\";position: absolute;border-left: 1px solid gray;box-sizing: border-box;top: 0;bottom: 0;left: 50%;z-index: 0;}#sk-container-id-3 div.sk-serial {display: flex;flex-direction: column;align-items: center;background-color: white;padding-right: 0.2em;padding-left: 0.2em;position: relative;}#sk-container-id-3 div.sk-item {position: relative;z-index: 1;}#sk-container-id-3 div.sk-parallel {display: flex;align-items: stretch;justify-content: center;background-color: white;position: relative;}#sk-container-id-3 div.sk-item::before, #sk-container-id-3 div.sk-parallel-item::before {content: \"\";position: absolute;border-left: 1px solid gray;box-sizing: border-box;top: 0;bottom: 0;left: 50%;z-index: -1;}#sk-container-id-3 div.sk-parallel-item {display: flex;flex-direction: column;z-index: 1;position: relative;background-color: white;}#sk-container-id-3 div.sk-parallel-item:first-child::after {align-self: flex-end;width: 50%;}#sk-container-id-3 div.sk-parallel-item:last-child::after {align-self: flex-start;width: 50%;}#sk-container-id-3 div.sk-parallel-item:only-child::after {width: 0;}#sk-container-id-3 div.sk-dashed-wrapped {border: 1px dashed gray;margin: 0 0.4em 0.5em 0.4em;box-sizing: border-box;padding-bottom: 0.4em;background-color: white;}#sk-container-id-3 div.sk-label label {font-family: monospace;font-weight: bold;display: inline-block;line-height: 1.2em;}#sk-container-id-3 div.sk-label-container {text-align: center;}#sk-container-id-3 div.sk-container {/* jupyter's `normalize.less` sets `[hidden] { display: none; }` but bootstrap.min.css set `[hidden] { display: none !important; }` so we also need the `!important` here to be able to override the default hidden behavior on the sphinx rendered scikit-learn.org. See: https://github.com/scikit-learn/scikit-learn/issues/21755 */display: inline-block !important;position: relative;}#sk-container-id-3 div.sk-text-repr-fallback {display: none;}</style><div id=\"sk-container-id-3\" class=\"sk-top-container\"><div class=\"sk-text-repr-fallback\"><pre>KNeighborsRegressor(n_neighbors=13)</pre><b>In a Jupyter environment, please rerun this cell to show the HTML representation or trust the notebook. <br />On GitHub, the HTML representation is unable to render, please try loading this page with nbviewer.org.</b></div><div class=\"sk-container\" hidden><div class=\"sk-item\"><div class=\"sk-estimator sk-toggleable\"><input class=\"sk-toggleable__control sk-hidden--visually\" id=\"sk-estimator-id-3\" type=\"checkbox\" checked><label for=\"sk-estimator-id-3\" class=\"sk-toggleable__label sk-toggleable__label-arrow\">KNeighborsRegressor</label><div class=\"sk-toggleable__content\"><pre>KNeighborsRegressor(n_neighbors=13)</pre></div></div></div></div></div>"
      ],
      "text/plain": [
       "KNeighborsRegressor(n_neighbors=13)"
      ]
     },
     "execution_count": 39,
     "metadata": {},
     "output_type": "execute_result"
    }
   ],
   "source": [
    "from sklearn import neighbors\n",
    "knn=neighbors.KNeighborsRegressor(n_neighbors=13)\n",
    "knn.fit(X_train,y_train)"
   ]
  },
  {
   "cell_type": "code",
   "execution_count": 40,
   "id": "06d4d33e",
   "metadata": {
    "execution": {
     "iopub.execute_input": "2024-01-01T07:34:14.640933Z",
     "iopub.status.busy": "2024-01-01T07:34:14.640513Z",
     "iopub.status.idle": "2024-01-01T07:34:14.653470Z",
     "shell.execute_reply": "2024-01-01T07:34:14.652047Z"
    },
    "papermill": {
     "duration": 0.041742,
     "end_time": "2024-01-01T07:34:14.655969",
     "exception": false,
     "start_time": "2024-01-01T07:34:14.614227",
     "status": "completed"
    },
    "tags": []
   },
   "outputs": [
    {
     "name": "stdout",
     "output_type": "stream",
     "text": [
      "mse =  0.0006282710757490536\n",
      "mae =  0.019805509752433385\n",
      "test data variance explained variance regression score 0.8213733340393204\n",
      "r2score =  0.8206939395514368\n"
     ]
    }
   ],
   "source": [
    "ypred=knn.predict(X_test)\n",
    "from sklearn.metrics import mean_squared_error, mean_absolute_error, explained_variance_score,r2_score\n",
    "print('mse = ',mean_squared_error(y_test,ypred))\n",
    "print('mae = ',mean_absolute_error(y_test,ypred))\n",
    "print('test data variance explained variance regression score',explained_variance_score(y_test,ypred))\n",
    "print('r2score = ',r2_score(y_test,ypred))"
   ]
  },
  {
   "cell_type": "code",
   "execution_count": 41,
   "id": "545fa1c8",
   "metadata": {
    "execution": {
     "iopub.execute_input": "2024-01-01T07:34:14.708273Z",
     "iopub.status.busy": "2024-01-01T07:34:14.707121Z",
     "iopub.status.idle": "2024-01-01T07:34:15.075123Z",
     "shell.execute_reply": "2024-01-01T07:34:15.073979Z"
    },
    "papermill": {
     "duration": 0.396932,
     "end_time": "2024-01-01T07:34:15.077811",
     "exception": false,
     "start_time": "2024-01-01T07:34:14.680879",
     "status": "completed"
    },
    "tags": []
   },
   "outputs": [
    {
     "data": {
      "text/plain": [
       "<Axes: >"
      ]
     },
     "execution_count": 41,
     "metadata": {},
     "output_type": "execute_result"
    },
    {
     "data": {
      "image/png": "[encoded data removed]",
      "text/plain": [
       "<Figure size 640x480 with 1 Axes>"
      ]
     },
     "metadata": {},
     "output_type": "display_data"
    }
   ],
   "source": [
    "d=pd.DataFrame(y_test,ypred).reset_index()\n",
    "d.rename(columns={'index':'y_test',0:'ypred'},inplace=True)\n",
    "d.plot()"
   ]
  },
  {
   "cell_type": "code",
   "execution_count": 42,
   "id": "a1c4afc2",
   "metadata": {
    "execution": {
     "iopub.execute_input": "2024-01-01T07:34:15.132115Z",
     "iopub.status.busy": "2024-01-01T07:34:15.131036Z",
     "iopub.status.idle": "2024-01-01T07:34:15.141002Z",
     "shell.execute_reply": "2024-01-01T07:34:15.139772Z"
    },
    "papermill": {
     "duration": 0.039674,
     "end_time": "2024-01-01T07:34:15.143378",
     "exception": false,
     "start_time": "2024-01-01T07:34:15.103704",
     "status": "completed"
    },
    "tags": []
   },
   "outputs": [
    {
     "data": {
      "text/plain": [
       "(1048, 13, 1)"
      ]
     },
     "execution_count": 42,
     "metadata": {},
     "output_type": "execute_result"
    }
   ],
   "source": [
    "from tensorflow.keras.layers import LSTM,Dense\n",
    "from tensorflow.keras.models import Sequential\n",
    "import numpy as np\n",
    "xtr = X_train.reshape(X_train.shape[0],X_train.shape[1] , 1)\n",
    "xte = X_test.reshape(X_test.shape[0],X_test.shape[1] , 1)\n",
    "xtr.shape"
   ]
  },
  {
   "cell_type": "code",
   "execution_count": 43,
   "id": "869cf6b7",
   "metadata": {
    "execution": {
     "iopub.execute_input": "2024-01-01T07:34:15.200118Z",
     "iopub.status.busy": "2024-01-01T07:34:15.199226Z",
     "iopub.status.idle": "2024-01-01T07:34:16.376550Z",
     "shell.execute_reply": "2024-01-01T07:34:16.375312Z"
    },
    "papermill": {
     "duration": 1.211066,
     "end_time": "2024-01-01T07:34:16.380384",
     "exception": false,
     "start_time": "2024-01-01T07:34:15.169318",
     "status": "completed"
    },
    "tags": []
   },
   "outputs": [
    {
     "name": "stdout",
     "output_type": "stream",
     "text": [
      "Model: \"sequential\"\n",
      "_________________________________________________________________\n",
      " Layer (type)                Output Shape              Param #   \n",
      "=================================================================\n",
      " lstm (LSTM)                 (None, 13, 32)            4352      \n",
      "                                                                 \n",
      " lstm_1 (LSTM)               (None, 13, 32)            8320      \n",
      "                                                                 \n",
      " lstm_2 (LSTM)               (None, 32)                8320      \n",
      "                                                                 \n",
      " dense (Dense)               (None, 1)                 33        \n",
      "                                                                 \n",
      "=================================================================\n",
      "Total params: 21025 (82.13 KB)\n",
      "Trainable params: 21025 (82.13 KB)\n",
      "Non-trainable params: 0 (0.00 Byte)\n",
      "_________________________________________________________________\n"
     ]
    }
   ],
   "source": [
    "model=Sequential()\n",
    "model.add(LSTM(32,return_sequences=True,input_shape=(13,1)))\n",
    "model.add(LSTM(32,return_sequences=True))\n",
    "model.add(LSTM(32))\n",
    "model.add(Dense(1))\n",
    "model.compile(loss='mean_squared_error',optimizer='adam')\n",
    "model.summary()"
   ]
  },
  {
   "cell_type": "code",
   "execution_count": 44,
   "id": "ed3c0268",
   "metadata": {
    "execution": {
     "iopub.execute_input": "2024-01-01T07:34:16.437731Z",
     "iopub.status.busy": "2024-01-01T07:34:16.437298Z",
     "iopub.status.idle": "2024-01-01T07:35:37.004794Z",
     "shell.execute_reply": "2024-01-01T07:35:37.003825Z"
    },
    "papermill": {
     "duration": 80.598976,
     "end_time": "2024-01-01T07:35:37.007301",
     "exception": false,
     "start_time": "2024-01-01T07:34:16.408325",
     "status": "completed"
    },
    "tags": []
   },
   "outputs": [
    {
     "name": "stdout",
     "output_type": "stream",
     "text": [
      "Epoch 1/100\n",
      "33/33 [==============================] - 9s 63ms/step - loss: 0.0876 - val_loss: 0.0104\n",
      "Epoch 2/100\n",
      "33/33 [==============================] - 1s 22ms/step - loss: 0.0063 - val_loss: 0.0024\n",
      "Epoch 3/100\n",
      "33/33 [==============================] - 1s 21ms/step - loss: 0.0024 - val_loss: 0.0021\n",
      "Epoch 4/100\n",
      "33/33 [==============================] - 1s 22ms/step - loss: 0.0023 - val_loss: 0.0018\n",
      "Epoch 5/100\n",
      "33/33 [==============================] - 1s 21ms/step - loss: 0.0023 - val_loss: 0.0021\n",
      "Epoch 6/100\n",
      "33/33 [==============================] - 1s 22ms/step - loss: 0.0023 - val_loss: 0.0018\n",
      "Epoch 7/100\n",
      "33/33 [==============================] - 1s 21ms/step - loss: 0.0023 - val_loss: 0.0018\n",
      "Epoch 8/100\n",
      "33/33 [==============================] - 1s 22ms/step - loss: 0.0023 - val_loss: 0.0018\n",
      "Epoch 9/100\n",
      "33/33 [==============================] - 1s 21ms/step - loss: 0.0023 - val_loss: 0.0017\n",
      "Epoch 10/100\n",
      "33/33 [==============================] - 1s 21ms/step - loss: 0.0023 - val_loss: 0.0018\n",
      "Epoch 11/100\n",
      "33/33 [==============================] - 1s 23ms/step - loss: 0.0023 - val_loss: 0.0020\n",
      "Epoch 12/100\n",
      "33/33 [==============================] - 1s 22ms/step - loss: 0.0023 - val_loss: 0.0019\n",
      "Epoch 13/100\n",
      "33/33 [==============================] - 1s 21ms/step - loss: 0.0022 - val_loss: 0.0022\n",
      "Epoch 14/100\n",
      "33/33 [==============================] - 1s 22ms/step - loss: 0.0022 - val_loss: 0.0020\n",
      "Epoch 15/100\n",
      "33/33 [==============================] - 1s 21ms/step - loss: 0.0021 - val_loss: 0.0016\n",
      "Epoch 16/100\n",
      "33/33 [==============================] - 1s 22ms/step - loss: 0.0022 - val_loss: 0.0016\n",
      "Epoch 17/100\n",
      "33/33 [==============================] - 1s 23ms/step - loss: 0.0020 - val_loss: 0.0017\n",
      "Epoch 18/100\n",
      "33/33 [==============================] - 1s 24ms/step - loss: 0.0021 - val_loss: 0.0016\n",
      "Epoch 19/100\n",
      "33/33 [==============================] - 1s 22ms/step - loss: 0.0020 - val_loss: 0.0015\n",
      "Epoch 20/100\n",
      "33/33 [==============================] - 1s 22ms/step - loss: 0.0020 - val_loss: 0.0016\n",
      "Epoch 21/100\n",
      "33/33 [==============================] - 1s 21ms/step - loss: 0.0019 - val_loss: 0.0017\n",
      "Epoch 22/100\n",
      "33/33 [==============================] - 1s 21ms/step - loss: 0.0020 - val_loss: 0.0015\n",
      "Epoch 23/100\n",
      "33/33 [==============================] - 1s 21ms/step - loss: 0.0018 - val_loss: 0.0015\n",
      "Epoch 24/100\n",
      "33/33 [==============================] - 1s 22ms/step - loss: 0.0019 - val_loss: 0.0034\n",
      "Epoch 25/100\n",
      "33/33 [==============================] - 1s 22ms/step - loss: 0.0021 - val_loss: 0.0019\n",
      "Epoch 26/100\n",
      "33/33 [==============================] - 1s 23ms/step - loss: 0.0018 - val_loss: 0.0017\n",
      "Epoch 27/100\n",
      "33/33 [==============================] - 1s 23ms/step - loss: 0.0018 - val_loss: 0.0013\n",
      "Epoch 28/100\n",
      "33/33 [==============================] - 1s 21ms/step - loss: 0.0017 - val_loss: 0.0019\n",
      "Epoch 29/100\n",
      "33/33 [==============================] - 1s 22ms/step - loss: 0.0017 - val_loss: 0.0013\n",
      "Epoch 30/100\n",
      "33/33 [==============================] - 1s 26ms/step - loss: 0.0016 - val_loss: 0.0013\n",
      "Epoch 31/100\n",
      "33/33 [==============================] - 1s 24ms/step - loss: 0.0018 - val_loss: 0.0019\n",
      "Epoch 32/100\n",
      "33/33 [==============================] - 1s 21ms/step - loss: 0.0016 - val_loss: 0.0011\n",
      "Epoch 33/100\n",
      "33/33 [==============================] - 1s 23ms/step - loss: 0.0015 - val_loss: 0.0018\n",
      "Epoch 34/100\n",
      "33/33 [==============================] - 1s 22ms/step - loss: 0.0015 - val_loss: 0.0010\n",
      "Epoch 35/100\n",
      "33/33 [==============================] - 1s 22ms/step - loss: 0.0014 - val_loss: 0.0014\n",
      "Epoch 36/100\n",
      "33/33 [==============================] - 1s 22ms/step - loss: 0.0019 - val_loss: 0.0011\n",
      "Epoch 37/100\n",
      "33/33 [==============================] - 1s 22ms/step - loss: 0.0015 - val_loss: 0.0013\n",
      "Epoch 38/100\n",
      "33/33 [==============================] - 1s 23ms/step - loss: 0.0013 - val_loss: 9.3592e-04\n",
      "Epoch 39/100\n",
      "33/33 [==============================] - 1s 21ms/step - loss: 0.0014 - val_loss: 0.0011\n",
      "Epoch 40/100\n",
      "33/33 [==============================] - 1s 23ms/step - loss: 0.0017 - val_loss: 0.0017\n",
      "Epoch 41/100\n",
      "33/33 [==============================] - 1s 21ms/step - loss: 0.0015 - val_loss: 0.0013\n",
      "Epoch 42/100\n",
      "33/33 [==============================] - 1s 22ms/step - loss: 0.0013 - val_loss: 0.0010\n",
      "Epoch 43/100\n",
      "33/33 [==============================] - 1s 21ms/step - loss: 0.0013 - val_loss: 9.9785e-04\n",
      "Epoch 44/100\n",
      "33/33 [==============================] - 1s 21ms/step - loss: 0.0012 - val_loss: 0.0012\n",
      "Epoch 45/100\n",
      "33/33 [==============================] - 1s 22ms/step - loss: 0.0012 - val_loss: 0.0011\n",
      "Epoch 46/100\n",
      "33/33 [==============================] - 1s 21ms/step - loss: 0.0012 - val_loss: 0.0013\n",
      "Epoch 47/100\n",
      "33/33 [==============================] - 1s 23ms/step - loss: 0.0012 - val_loss: 8.9686e-04\n",
      "Epoch 48/100\n",
      "33/33 [==============================] - 1s 21ms/step - loss: 0.0011 - val_loss: 0.0010\n",
      "Epoch 49/100\n",
      "33/33 [==============================] - 1s 21ms/step - loss: 0.0011 - val_loss: 0.0011\n",
      "Epoch 50/100\n",
      "33/33 [==============================] - 1s 21ms/step - loss: 0.0012 - val_loss: 7.6174e-04\n",
      "Epoch 51/100\n",
      "33/33 [==============================] - 1s 22ms/step - loss: 0.0012 - val_loss: 0.0010\n",
      "Epoch 52/100\n",
      "33/33 [==============================] - 1s 21ms/step - loss: 0.0010 - val_loss: 0.0010\n",
      "Epoch 53/100\n",
      "33/33 [==============================] - 1s 23ms/step - loss: 0.0015 - val_loss: 7.2476e-04\n",
      "Epoch 54/100\n",
      "33/33 [==============================] - 1s 22ms/step - loss: 0.0011 - val_loss: 9.7063e-04\n",
      "Epoch 55/100\n",
      "33/33 [==============================] - 1s 23ms/step - loss: 0.0010 - val_loss: 6.8660e-04\n",
      "Epoch 56/100\n",
      "33/33 [==============================] - 1s 22ms/step - loss: 0.0011 - val_loss: 0.0011\n",
      "Epoch 57/100\n",
      "33/33 [==============================] - 1s 22ms/step - loss: 0.0010 - val_loss: 6.5135e-04\n",
      "Epoch 58/100\n",
      "33/33 [==============================] - 1s 21ms/step - loss: 9.6092e-04 - val_loss: 9.1511e-04\n",
      "Epoch 59/100\n",
      "33/33 [==============================] - 1s 24ms/step - loss: 9.2482e-04 - val_loss: 8.1950e-04\n",
      "Epoch 60/100\n",
      "33/33 [==============================] - 1s 22ms/step - loss: 0.0011 - val_loss: 6.1207e-04\n",
      "Epoch 61/100\n",
      "33/33 [==============================] - 1s 22ms/step - loss: 9.4569e-04 - val_loss: 6.0591e-04\n",
      "Epoch 62/100\n",
      "33/33 [==============================] - 1s 22ms/step - loss: 8.7703e-04 - val_loss: 8.5200e-04\n",
      "Epoch 63/100\n",
      "33/33 [==============================] - 1s 22ms/step - loss: 8.7520e-04 - val_loss: 0.0011\n",
      "Epoch 64/100\n",
      "33/33 [==============================] - 1s 21ms/step - loss: 8.8434e-04 - val_loss: 6.6982e-04\n",
      "Epoch 65/100\n",
      "33/33 [==============================] - 1s 22ms/step - loss: 8.3393e-04 - val_loss: 6.9578e-04\n",
      "Epoch 66/100\n",
      "33/33 [==============================] - 1s 23ms/step - loss: 9.1958e-04 - val_loss: 8.1920e-04\n",
      "Epoch 67/100\n",
      "33/33 [==============================] - 1s 23ms/step - loss: 7.9321e-04 - val_loss: 5.1006e-04\n",
      "Epoch 68/100\n",
      "33/33 [==============================] - 1s 22ms/step - loss: 8.1497e-04 - val_loss: 0.0010\n",
      "Epoch 69/100\n",
      "33/33 [==============================] - 1s 21ms/step - loss: 7.6095e-04 - val_loss: 4.9476e-04\n",
      "Epoch 70/100\n",
      "33/33 [==============================] - 1s 21ms/step - loss: 7.3922e-04 - val_loss: 6.6748e-04\n",
      "Epoch 71/100\n",
      "33/33 [==============================] - 1s 22ms/step - loss: 7.7238e-04 - val_loss: 5.6997e-04\n",
      "Epoch 72/100\n",
      "33/33 [==============================] - 1s 21ms/step - loss: 7.7207e-04 - val_loss: 4.5145e-04\n",
      "Epoch 73/100\n",
      "33/33 [==============================] - 1s 23ms/step - loss: 6.8512e-04 - val_loss: 7.8172e-04\n",
      "Epoch 74/100\n",
      "33/33 [==============================] - 1s 24ms/step - loss: 7.5226e-04 - val_loss: 4.5063e-04\n",
      "Epoch 75/100\n",
      "33/33 [==============================] - 1s 23ms/step - loss: 7.2872e-04 - val_loss: 4.2384e-04\n",
      "Epoch 76/100\n",
      "33/33 [==============================] - 1s 20ms/step - loss: 7.5900e-04 - val_loss: 4.1334e-04\n",
      "Epoch 77/100\n",
      "33/33 [==============================] - 1s 20ms/step - loss: 6.5666e-04 - val_loss: 4.1813e-04\n",
      "Epoch 78/100\n",
      "33/33 [==============================] - 1s 21ms/step - loss: 6.3978e-04 - val_loss: 5.5998e-04\n",
      "Epoch 79/100\n",
      "33/33 [==============================] - 1s 21ms/step - loss: 6.6760e-04 - val_loss: 3.9535e-04\n",
      "Epoch 80/100\n",
      "33/33 [==============================] - 1s 21ms/step - loss: 6.4608e-04 - val_loss: 4.0019e-04\n",
      "Epoch 81/100\n",
      "33/33 [==============================] - 1s 22ms/step - loss: 6.4435e-04 - val_loss: 6.1988e-04\n",
      "Epoch 82/100\n",
      "33/33 [==============================] - 1s 20ms/step - loss: 7.7235e-04 - val_loss: 3.7506e-04\n",
      "Epoch 83/100\n",
      "33/33 [==============================] - 1s 22ms/step - loss: 6.2173e-04 - val_loss: 3.7029e-04\n",
      "Epoch 84/100\n",
      "33/33 [==============================] - 1s 21ms/step - loss: 5.7545e-04 - val_loss: 3.8697e-04\n",
      "Epoch 85/100\n",
      "33/33 [==============================] - 1s 21ms/step - loss: 5.8175e-04 - val_loss: 4.1737e-04\n",
      "Epoch 86/100\n",
      "33/33 [==============================] - 1s 22ms/step - loss: 6.0825e-04 - val_loss: 5.9214e-04\n",
      "Epoch 87/100\n",
      "33/33 [==============================] - 1s 22ms/step - loss: 6.2425e-04 - val_loss: 0.0017\n",
      "Epoch 88/100\n",
      "33/33 [==============================] - 1s 21ms/step - loss: 7.5052e-04 - val_loss: 3.7840e-04\n",
      "Epoch 89/100\n",
      "33/33 [==============================] - 1s 21ms/step - loss: 5.4578e-04 - val_loss: 3.5387e-04\n",
      "Epoch 90/100\n",
      "33/33 [==============================] - 1s 21ms/step - loss: 5.5147e-04 - val_loss: 3.3377e-04\n",
      "Epoch 91/100\n",
      "33/33 [==============================] - 1s 21ms/step - loss: 5.8059e-04 - val_loss: 3.2761e-04\n",
      "Epoch 92/100\n",
      "33/33 [==============================] - 1s 22ms/step - loss: 5.8358e-04 - val_loss: 4.2301e-04\n",
      "Epoch 93/100\n",
      "33/33 [==============================] - 1s 21ms/step - loss: 5.4912e-04 - val_loss: 6.5100e-04\n",
      "Epoch 94/100\n",
      "33/33 [==============================] - 1s 22ms/step - loss: 6.3368e-04 - val_loss: 4.6020e-04\n",
      "Epoch 95/100\n",
      "33/33 [==============================] - 1s 23ms/step - loss: 5.1600e-04 - val_loss: 5.1733e-04\n",
      "Epoch 96/100\n",
      "33/33 [==============================] - 1s 22ms/step - loss: 5.1790e-04 - val_loss: 3.4711e-04\n",
      "Epoch 97/100\n",
      "33/33 [==============================] - 1s 23ms/step - loss: 5.2958e-04 - val_loss: 5.3639e-04\n",
      "Epoch 98/100\n",
      "33/33 [==============================] - 1s 21ms/step - loss: 5.5570e-04 - val_loss: 2.9345e-04\n",
      "Epoch 99/100\n",
      "33/33 [==============================] - 1s 21ms/step - loss: 5.0823e-04 - val_loss: 4.6565e-04\n",
      "Epoch 100/100\n",
      "33/33 [==============================] - 1s 21ms/step - loss: 5.2587e-04 - val_loss: 5.3061e-04\n"
     ]
    },
    {
     "data": {
      "text/plain": [
       "<keras.src.callbacks.History at 0x78ce904ffbe0>"
      ]
     },
     "execution_count": 44,
     "metadata": {},
     "output_type": "execute_result"
    }
   ],
   "source": [
    "model.fit(xtr,y_train,validation_data=(xte,y_test),epochs=100,batch_size=32,verbose=1)"
   ]
  },
  {
   "cell_type": "code",
   "execution_count": 45,
   "id": "d7743f51",
   "metadata": {
    "execution": {
     "iopub.execute_input": "2024-01-01T07:35:37.344695Z",
     "iopub.status.busy": "2024-01-01T07:35:37.343913Z",
     "iopub.status.idle": "2024-01-01T07:35:38.839633Z",
     "shell.execute_reply": "2024-01-01T07:35:38.838147Z"
    },
    "papermill": {
     "duration": 1.664214,
     "end_time": "2024-01-01T07:35:38.842302",
     "exception": false,
     "start_time": "2024-01-01T07:35:37.178088",
     "status": "completed"
    },
    "tags": []
   },
   "outputs": [
    {
     "name": "stdout",
     "output_type": "stream",
     "text": [
      "5/5 [==============================] - 1s 7ms/step\n",
      "mse =  0.000530614559829012\n",
      "mae =  0.018631302638337476\n",
      "test data variance explained variance regression score 0.9186949877418333\n",
      "r2score =  0.8485647198923563\n"
     ]
    }
   ],
   "source": [
    "ypred=model.predict(xte)\n",
    "from sklearn.metrics import mean_squared_error, mean_absolute_error, explained_variance_score,r2_score\n",
    "print('mse = ',mean_squared_error(y_test,ypred))\n",
    "print('mae = ',mean_absolute_error(y_test,ypred))\n",
    "print('test data variance explained variance regression score',explained_variance_score(y_test,ypred))\n",
    "print('r2score = ',r2_score(y_test,ypred))"
   ]
  },
  {
   "cell_type": "code",
   "execution_count": 46,
   "id": "a5357384",
   "metadata": {
    "execution": {
     "iopub.execute_input": "2024-01-01T07:35:39.154272Z",
     "iopub.status.busy": "2024-01-01T07:35:39.153819Z",
     "iopub.status.idle": "2024-01-01T07:35:39.510862Z",
     "shell.execute_reply": "2024-01-01T07:35:39.509523Z"
    },
    "papermill": {
     "duration": 0.5186,
     "end_time": "2024-01-01T07:35:39.513665",
     "exception": false,
     "start_time": "2024-01-01T07:35:38.995065",
     "status": "completed"
    },
    "tags": []
   },
   "outputs": [
    {
     "data": {
      "text/plain": [
       "<Axes: >"
      ]
     },
     "execution_count": 46,
     "metadata": {},
     "output_type": "execute_result"
    },
    {
     "data": {
      "image/png": "[encoded data removed]",
      "text/plain": [
       "<Figure size 640x480 with 1 Axes>"
      ]
     },
     "metadata": {},
     "output_type": "display_data"
    }
   ],
   "source": [
    "d=pd.DataFrame(y_test,ypred.reshape(-1)).reset_index()\n",
    "d.rename(columns={'index':'y_test',0:'ypred'},inplace=True)\n",
    "d.plot()"
   ]
  },
  {
   "cell_type": "code",
   "execution_count": 47,
   "id": "c1749002",
   "metadata": {
    "execution": {
     "iopub.execute_input": "2024-01-01T07:35:39.822931Z",
     "iopub.status.busy": "2024-01-01T07:35:39.821710Z",
     "iopub.status.idle": "2024-01-01T07:35:40.634321Z",
     "shell.execute_reply": "2024-01-01T07:35:40.633155Z"
    },
    "papermill": {
     "duration": 0.974582,
     "end_time": "2024-01-01T07:35:40.642646",
     "exception": false,
     "start_time": "2024-01-01T07:35:39.668064",
     "status": "completed"
    },
    "tags": []
   },
   "outputs": [
    {
     "name": "stdout",
     "output_type": "stream",
     "text": [
      "Model: \"sequential_1\"\n",
      "_________________________________________________________________\n",
      " Layer (type)                Output Shape              Param #   \n",
      "=================================================================\n",
      " gru (GRU)                   (None, 13, 32)            3360      \n",
      "                                                                 \n",
      " gru_1 (GRU)                 (None, 13, 32)            6336      \n",
      "                                                                 \n",
      " gru_2 (GRU)                 (None, 32)                6336      \n",
      "                                                                 \n",
      " dense_1 (Dense)             (None, 1)                 33        \n",
      "                                                                 \n",
      "=================================================================\n",
      "Total params: 16065 (62.75 KB)\n",
      "Trainable params: 16065 (62.75 KB)\n",
      "Non-trainable params: 0 (0.00 Byte)\n",
      "_________________________________________________________________\n"
     ]
    }
   ],
   "source": [
    "from tensorflow.keras.layers import GRU\n",
    "model=Sequential()\n",
    "model.add(GRU(32,return_sequences=True,input_shape=(13,1)))\n",
    "model.add(GRU(32,return_sequences=True))\n",
    "model.add(GRU(32))\n",
    "model.add(Dense(1))\n",
    "model.compile(loss='mean_squared_error',optimizer='adam')\n",
    "model.summary()"
   ]
  },
  {
   "cell_type": "code",
   "execution_count": 48,
   "id": "c3fb74ff",
   "metadata": {
    "execution": {
     "iopub.execute_input": "2024-01-01T07:35:40.951727Z",
     "iopub.status.busy": "2024-01-01T07:35:40.951313Z",
     "iopub.status.idle": "2024-01-01T07:36:07.740993Z",
     "shell.execute_reply": "2024-01-01T07:36:07.740114Z"
    },
    "papermill": {
     "duration": 26.947365,
     "end_time": "2024-01-01T07:36:07.743202",
     "exception": false,
     "start_time": "2024-01-01T07:35:40.795837",
     "status": "completed"
    },
    "tags": []
   },
   "outputs": [
    {
     "name": "stdout",
     "output_type": "stream",
     "text": [
      "Epoch 1/25\n",
      "33/33 [==============================] - 9s 60ms/step - loss: 0.0779 - val_loss: 0.0125\n",
      "Epoch 2/25\n",
      "33/33 [==============================] - 1s 25ms/step - loss: 0.0051 - val_loss: 0.0011\n",
      "Epoch 3/25\n",
      "33/33 [==============================] - 1s 23ms/step - loss: 0.0014 - val_loss: 0.0011\n",
      "Epoch 4/25\n",
      "33/33 [==============================] - 1s 22ms/step - loss: 0.0012 - val_loss: 9.8675e-04\n",
      "Epoch 5/25\n",
      "33/33 [==============================] - 1s 23ms/step - loss: 0.0012 - val_loss: 9.9358e-04\n",
      "Epoch 6/25\n",
      "33/33 [==============================] - 1s 22ms/step - loss: 0.0012 - val_loss: 0.0011\n",
      "Epoch 7/25\n",
      "33/33 [==============================] - 1s 22ms/step - loss: 0.0012 - val_loss: 8.9106e-04\n",
      "Epoch 8/25\n",
      "33/33 [==============================] - 1s 22ms/step - loss: 0.0011 - val_loss: 8.6071e-04\n",
      "Epoch 9/25\n",
      "33/33 [==============================] - 1s 22ms/step - loss: 0.0011 - val_loss: 8.2550e-04\n",
      "Epoch 10/25\n",
      "33/33 [==============================] - 1s 22ms/step - loss: 0.0010 - val_loss: 8.0744e-04\n",
      "Epoch 11/25\n",
      "33/33 [==============================] - 1s 23ms/step - loss: 0.0010 - val_loss: 7.6443e-04\n",
      "Epoch 12/25\n",
      "33/33 [==============================] - 1s 24ms/step - loss: 0.0010 - val_loss: 0.0011\n",
      "Epoch 13/25\n",
      "33/33 [==============================] - 1s 23ms/step - loss: 9.8317e-04 - val_loss: 7.0657e-04\n",
      "Epoch 14/25\n",
      "33/33 [==============================] - 1s 22ms/step - loss: 8.9635e-04 - val_loss: 6.7726e-04\n",
      "Epoch 15/25\n",
      "33/33 [==============================] - 1s 22ms/step - loss: 8.8239e-04 - val_loss: 6.6150e-04\n",
      "Epoch 16/25\n",
      "33/33 [==============================] - 1s 22ms/step - loss: 8.9048e-04 - val_loss: 6.2494e-04\n",
      "Epoch 17/25\n",
      "33/33 [==============================] - 1s 24ms/step - loss: 0.0010 - val_loss: 5.9992e-04\n",
      "Epoch 18/25\n",
      "33/33 [==============================] - 1s 22ms/step - loss: 7.9562e-04 - val_loss: 6.1218e-04\n",
      "Epoch 19/25\n",
      "33/33 [==============================] - 1s 22ms/step - loss: 7.5615e-04 - val_loss: 5.6811e-04\n",
      "Epoch 20/25\n",
      "33/33 [==============================] - 1s 21ms/step - loss: 7.6067e-04 - val_loss: 5.3631e-04\n",
      "Epoch 21/25\n",
      "33/33 [==============================] - 1s 23ms/step - loss: 7.8060e-04 - val_loss: 5.4064e-04\n",
      "Epoch 22/25\n",
      "33/33 [==============================] - 1s 22ms/step - loss: 7.3046e-04 - val_loss: 5.2776e-04\n",
      "Epoch 23/25\n",
      "33/33 [==============================] - 1s 23ms/step - loss: 6.9234e-04 - val_loss: 4.8239e-04\n",
      "Epoch 24/25\n",
      "33/33 [==============================] - 1s 22ms/step - loss: 6.8041e-04 - val_loss: 5.0273e-04\n",
      "Epoch 25/25\n",
      "33/33 [==============================] - 1s 24ms/step - loss: 6.6776e-04 - val_loss: 5.1737e-04\n"
     ]
    },
    {
     "data": {
      "text/plain": [
       "<keras.src.callbacks.History at 0x78ce21c6ebf0>"
      ]
     },
     "execution_count": 48,
     "metadata": {},
     "output_type": "execute_result"
    }
   ],
   "source": [
    "model.fit(xtr,y_train,validation_data=(xte,y_test),epochs=25,batch_size=32,verbose=1)"
   ]
  },
  {
   "cell_type": "code",
   "execution_count": 49,
   "id": "c070a15c",
   "metadata": {
    "execution": {
     "iopub.execute_input": "2024-01-01T07:36:08.118163Z",
     "iopub.status.busy": "2024-01-01T07:36:08.117759Z",
     "iopub.status.idle": "2024-01-01T07:36:09.445434Z",
     "shell.execute_reply": "2024-01-01T07:36:09.443851Z"
    },
    "papermill": {
     "duration": 1.516473,
     "end_time": "2024-01-01T07:36:09.448218",
     "exception": false,
     "start_time": "2024-01-01T07:36:07.931745",
     "status": "completed"
    },
    "tags": []
   },
   "outputs": [
    {
     "name": "stdout",
     "output_type": "stream",
     "text": [
      "5/5 [==============================] - 1s 6ms/step\n",
      "mse =  0.0005173705498078736\n",
      "mae =  0.016075982814489027\n",
      "test data variance explained variance regression score 0.8705116207692458\n",
      "r2score =  0.8523445075558267\n"
     ]
    }
   ],
   "source": [
    "ypred=model.predict(xte)\n",
    "from sklearn.metrics import mean_squared_error, mean_absolute_error, explained_variance_score,r2_score\n",
    "print('mse = ',mean_squared_error(y_test,ypred))\n",
    "print('mae = ',mean_absolute_error(y_test,ypred))\n",
    "print('test data variance explained variance regression score',explained_variance_score(y_test,ypred))\n",
    "print('r2score = ',r2_score(y_test,ypred))"
   ]
  },
  {
   "cell_type": "code",
   "execution_count": 50,
   "id": "0fe3ae32",
   "metadata": {
    "execution": {
     "iopub.execute_input": "2024-01-01T07:36:09.820702Z",
     "iopub.status.busy": "2024-01-01T07:36:09.820262Z",
     "iopub.status.idle": "2024-01-01T07:36:10.176781Z",
     "shell.execute_reply": "2024-01-01T07:36:10.175592Z"
    },
    "papermill": {
     "duration": 0.547172,
     "end_time": "2024-01-01T07:36:10.179412",
     "exception": false,
     "start_time": "2024-01-01T07:36:09.632240",
     "status": "completed"
    },
    "tags": []
   },
   "outputs": [
    {
     "data": {
      "text/plain": [
       "<Axes: >"
      ]
     },
     "execution_count": 50,
     "metadata": {},
     "output_type": "execute_result"
    },
    {
     "data": {
      "image/png": "[encoded data removed]",
      "text/plain": [
       "<Figure size 640x480 with 1 Axes>"
      ]
     },
     "metadata": {},
     "output_type": "display_data"
    }
   ],
   "source": [
    "d=pd.DataFrame(y_test,ypred.reshape(-1)).reset_index()\n",
    "d.rename(columns={'index':'y_test',0:'ypred'},inplace=True)\n",
    "d.plot()"
   ]
  },
  {
   "cell_type": "code",
   "execution_count": null,
   "id": "fd337ee7",
   "metadata": {
    "papermill": {
     "duration": 0.183753,
     "end_time": "2024-01-01T07:36:10.546576",
     "exception": false,
     "start_time": "2024-01-01T07:36:10.362823",
     "status": "completed"
    },
    "tags": []
   },
   "outputs": [],
   "source": []
  }
 ],
 "metadata": {
  "kaggle": {
   "accelerator": "none",
   "dataSources": [
    {
     "datasetId": 4242656,
     "sourceId": 7311571,
     "sourceType": "datasetVersion"
    }
   ],
   "isGpuEnabled": false,
   "isInternetEnabled": false,
   "language": "python",
   "sourceType": "notebook"
  },
  "kernelspec": {
   "display_name": "Python 3",
   "language": "python",
   "name": "python3"
  },
  "language_info": {
   "codemirror_mode": {
    "name": "ipython",
    "version": 3
   },
   "file_extension": ".py",
   "mimetype": "text/x-python",
   "name": "python",
   "nbconvert_exporter": "python",
   "pygments_lexer": "ipython3",
   "version": "3.10.12"
  },
  "papermill": {
   "default_parameters": {},
   "duration": 145.668329,
   "end_time": "2024-01-01T07:36:13.538716",
   "environment_variables": {},
   "exception": null,
   "input_path": "__notebook__.ipynb",
   "output_path": "__notebook__.ipynb",
   "parameters": {},
   "start_time": "2024-01-01T07:33:47.870387",
   "version": "2.4.0"
  }
 },
 "nbformat": 4,
 "nbformat_minor": 5
}
